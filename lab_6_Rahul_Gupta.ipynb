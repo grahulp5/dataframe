{
  "cells": [
    {
      "cell_type": "markdown",
      "id": "fd3b4edc",
      "metadata": {
        "id": "fd3b4edc"
      },
      "source": [
        "# Learning Objectives\n",
        "Upon completion of this lab, you should be able to\n",
        "<ul>\n",
        " <li> use <strong>Pandas DateFrame</strong>\n",
        " <li> explore <strong>Pandas DateFrame</strong> basic properties\n",
        "<li> clean <strong>Pandas DateFrame</strong>\n",
        "    <li> extract useful information from <strong>Pandas DateFrame</strong>\n",
        "</ul>"
      ]
    },
    {
      "cell_type": "markdown",
      "id": "07d96932",
      "metadata": {
        "id": "07d96932"
      },
      "source": [
        "### Loading Modules"
      ]
    },
    {
      "cell_type": "code",
      "execution_count": 1,
      "id": "49b9582f",
      "metadata": {
        "id": "49b9582f"
      },
      "outputs": [],
      "source": [
        "import pandas as pd\n",
        "import numpy as np\n",
        "import os\n",
        "MB = 2**20 # 1 MegaByte = 2**20 Bytes"
      ]
    },
    {
      "cell_type": "markdown",
      "id": "bdf63826",
      "metadata": {
        "id": "bdf63826"
      },
      "source": [
        "### The Data\n",
        "<hr>\n",
        "An unidentified flying object (UFO) is any perceived aerial phenomenon that cannot be immediately identified or explained (<a href='https://en.wikipedia.org/wiki/Unidentified_flying_object'>Wikipedia</a>).  A dataset of <strong>UFO</strong> sightings in the United States is provided below.\n",
        "<hr>"
      ]
    },
    {
      "cell_type": "code",
      "execution_count": 2,
      "id": "c3b686fc",
      "metadata": {
        "id": "c3b686fc"
      },
      "outputs": [],
      "source": [
        "ufo = pd.read_csv('http://bit.ly/uforeports')"
      ]
    },
    {
      "cell_type": "markdown",
      "id": "28f14f08",
      "metadata": {
        "id": "28f14f08"
      },
      "source": [
        "## Task 1 (20 Marks)"
      ]
    },
    {
      "cell_type": "markdown",
      "id": "a196a4bb",
      "metadata": {
        "id": "a196a4bb"
      },
      "source": [
        "<hr>\n",
        "Display the first/last <b>7</b> seven rows of the <strong>ufo DataFrame</strong>. (4 Marks)</strong>\n",
        "<hr>"
      ]
    },
    {
      "cell_type": "code",
      "execution_count": 3,
      "id": "8681c04e",
      "metadata": {
        "colab": {
          "base_uri": "https://localhost:8080/",
          "height": 269
        },
        "id": "8681c04e",
        "outputId": "ddf80ac7-5efe-4c82-f346-fe7adcffb7ec"
      },
      "outputs": [
        {
          "output_type": "execute_result",
          "data": {
            "text/plain": [
              "                   City Colors Reported Shape Reported State             Time\n",
              "0                Ithaca             NaN       TRIANGLE    NY   6/1/1930 22:00\n",
              "1           Willingboro             NaN          OTHER    NJ  6/30/1930 20:00\n",
              "2               Holyoke             NaN           OVAL    CO  2/15/1931 14:00\n",
              "3               Abilene             NaN           DISK    KS   6/1/1931 13:00\n",
              "4  New York Worlds Fair             NaN          LIGHT    NY  4/18/1933 19:00\n",
              "5           Valley City             NaN           DISK    ND  9/15/1934 15:30\n",
              "6           Crater Lake             NaN         CIRCLE    CA   6/15/1935 0:00"
            ],
            "text/html": [
              "\n",
              "\n",
              "  <div id=\"df-af00099f-41d7-4231-ab72-1cf4ffc113cf\">\n",
              "    <div class=\"colab-df-container\">\n",
              "      <div>\n",
              "<style scoped>\n",
              "    .dataframe tbody tr th:only-of-type {\n",
              "        vertical-align: middle;\n",
              "    }\n",
              "\n",
              "    .dataframe tbody tr th {\n",
              "        vertical-align: top;\n",
              "    }\n",
              "\n",
              "    .dataframe thead th {\n",
              "        text-align: right;\n",
              "    }\n",
              "</style>\n",
              "<table border=\"1\" class=\"dataframe\">\n",
              "  <thead>\n",
              "    <tr style=\"text-align: right;\">\n",
              "      <th></th>\n",
              "      <th>City</th>\n",
              "      <th>Colors Reported</th>\n",
              "      <th>Shape Reported</th>\n",
              "      <th>State</th>\n",
              "      <th>Time</th>\n",
              "    </tr>\n",
              "  </thead>\n",
              "  <tbody>\n",
              "    <tr>\n",
              "      <th>0</th>\n",
              "      <td>Ithaca</td>\n",
              "      <td>NaN</td>\n",
              "      <td>TRIANGLE</td>\n",
              "      <td>NY</td>\n",
              "      <td>6/1/1930 22:00</td>\n",
              "    </tr>\n",
              "    <tr>\n",
              "      <th>1</th>\n",
              "      <td>Willingboro</td>\n",
              "      <td>NaN</td>\n",
              "      <td>OTHER</td>\n",
              "      <td>NJ</td>\n",
              "      <td>6/30/1930 20:00</td>\n",
              "    </tr>\n",
              "    <tr>\n",
              "      <th>2</th>\n",
              "      <td>Holyoke</td>\n",
              "      <td>NaN</td>\n",
              "      <td>OVAL</td>\n",
              "      <td>CO</td>\n",
              "      <td>2/15/1931 14:00</td>\n",
              "    </tr>\n",
              "    <tr>\n",
              "      <th>3</th>\n",
              "      <td>Abilene</td>\n",
              "      <td>NaN</td>\n",
              "      <td>DISK</td>\n",
              "      <td>KS</td>\n",
              "      <td>6/1/1931 13:00</td>\n",
              "    </tr>\n",
              "    <tr>\n",
              "      <th>4</th>\n",
              "      <td>New York Worlds Fair</td>\n",
              "      <td>NaN</td>\n",
              "      <td>LIGHT</td>\n",
              "      <td>NY</td>\n",
              "      <td>4/18/1933 19:00</td>\n",
              "    </tr>\n",
              "    <tr>\n",
              "      <th>5</th>\n",
              "      <td>Valley City</td>\n",
              "      <td>NaN</td>\n",
              "      <td>DISK</td>\n",
              "      <td>ND</td>\n",
              "      <td>9/15/1934 15:30</td>\n",
              "    </tr>\n",
              "    <tr>\n",
              "      <th>6</th>\n",
              "      <td>Crater Lake</td>\n",
              "      <td>NaN</td>\n",
              "      <td>CIRCLE</td>\n",
              "      <td>CA</td>\n",
              "      <td>6/15/1935 0:00</td>\n",
              "    </tr>\n",
              "  </tbody>\n",
              "</table>\n",
              "</div>\n",
              "      <button class=\"colab-df-convert\" onclick=\"convertToInteractive('df-af00099f-41d7-4231-ab72-1cf4ffc113cf')\"\n",
              "              title=\"Convert this dataframe to an interactive table.\"\n",
              "              style=\"display:none;\">\n",
              "\n",
              "  <svg xmlns=\"http://www.w3.org/2000/svg\" height=\"24px\"viewBox=\"0 0 24 24\"\n",
              "       width=\"24px\">\n",
              "    <path d=\"M0 0h24v24H0V0z\" fill=\"none\"/>\n",
              "    <path d=\"M18.56 5.44l.94 2.06.94-2.06 2.06-.94-2.06-.94-.94-2.06-.94 2.06-2.06.94zm-11 1L8.5 8.5l.94-2.06 2.06-.94-2.06-.94L8.5 2.5l-.94 2.06-2.06.94zm10 10l.94 2.06.94-2.06 2.06-.94-2.06-.94-.94-2.06-.94 2.06-2.06.94z\"/><path d=\"M17.41 7.96l-1.37-1.37c-.4-.4-.92-.59-1.43-.59-.52 0-1.04.2-1.43.59L10.3 9.45l-7.72 7.72c-.78.78-.78 2.05 0 2.83L4 21.41c.39.39.9.59 1.41.59.51 0 1.02-.2 1.41-.59l7.78-7.78 2.81-2.81c.8-.78.8-2.07 0-2.86zM5.41 20L4 18.59l7.72-7.72 1.47 1.35L5.41 20z\"/>\n",
              "  </svg>\n",
              "      </button>\n",
              "\n",
              "\n",
              "\n",
              "    <div id=\"df-5785200c-cef8-43d3-a58d-287c3dda8186\">\n",
              "      <button class=\"colab-df-quickchart\" onclick=\"quickchart('df-5785200c-cef8-43d3-a58d-287c3dda8186')\"\n",
              "              title=\"Suggest charts.\"\n",
              "              style=\"display:none;\">\n",
              "\n",
              "<svg xmlns=\"http://www.w3.org/2000/svg\" height=\"24px\"viewBox=\"0 0 24 24\"\n",
              "     width=\"24px\">\n",
              "    <g>\n",
              "        <path d=\"M19 3H5c-1.1 0-2 .9-2 2v14c0 1.1.9 2 2 2h14c1.1 0 2-.9 2-2V5c0-1.1-.9-2-2-2zM9 17H7v-7h2v7zm4 0h-2V7h2v10zm4 0h-2v-4h2v4z\"/>\n",
              "    </g>\n",
              "</svg>\n",
              "      </button>\n",
              "    </div>\n",
              "\n",
              "<style>\n",
              "  .colab-df-quickchart {\n",
              "    background-color: #E8F0FE;\n",
              "    border: none;\n",
              "    border-radius: 50%;\n",
              "    cursor: pointer;\n",
              "    display: none;\n",
              "    fill: #1967D2;\n",
              "    height: 32px;\n",
              "    padding: 0 0 0 0;\n",
              "    width: 32px;\n",
              "  }\n",
              "\n",
              "  .colab-df-quickchart:hover {\n",
              "    background-color: #E2EBFA;\n",
              "    box-shadow: 0px 1px 2px rgba(60, 64, 67, 0.3), 0px 1px 3px 1px rgba(60, 64, 67, 0.15);\n",
              "    fill: #174EA6;\n",
              "  }\n",
              "\n",
              "  [theme=dark] .colab-df-quickchart {\n",
              "    background-color: #3B4455;\n",
              "    fill: #D2E3FC;\n",
              "  }\n",
              "\n",
              "  [theme=dark] .colab-df-quickchart:hover {\n",
              "    background-color: #434B5C;\n",
              "    box-shadow: 0px 1px 3px 1px rgba(0, 0, 0, 0.15);\n",
              "    filter: drop-shadow(0px 1px 2px rgba(0, 0, 0, 0.3));\n",
              "    fill: #FFFFFF;\n",
              "  }\n",
              "</style>\n",
              "\n",
              "    <script>\n",
              "      async function quickchart(key) {\n",
              "        const containerElement = document.querySelector('#' + key);\n",
              "        const charts = await google.colab.kernel.invokeFunction(\n",
              "            'suggestCharts', [key], {});\n",
              "      }\n",
              "    </script>\n",
              "\n",
              "      <script>\n",
              "\n",
              "function displayQuickchartButton(domScope) {\n",
              "  let quickchartButtonEl =\n",
              "    domScope.querySelector('#df-5785200c-cef8-43d3-a58d-287c3dda8186 button.colab-df-quickchart');\n",
              "  quickchartButtonEl.style.display =\n",
              "    google.colab.kernel.accessAllowed ? 'block' : 'none';\n",
              "}\n",
              "\n",
              "        displayQuickchartButton(document);\n",
              "      </script>\n",
              "      <style>\n",
              "    .colab-df-container {\n",
              "      display:flex;\n",
              "      flex-wrap:wrap;\n",
              "      gap: 12px;\n",
              "    }\n",
              "\n",
              "    .colab-df-convert {\n",
              "      background-color: #E8F0FE;\n",
              "      border: none;\n",
              "      border-radius: 50%;\n",
              "      cursor: pointer;\n",
              "      display: none;\n",
              "      fill: #1967D2;\n",
              "      height: 32px;\n",
              "      padding: 0 0 0 0;\n",
              "      width: 32px;\n",
              "    }\n",
              "\n",
              "    .colab-df-convert:hover {\n",
              "      background-color: #E2EBFA;\n",
              "      box-shadow: 0px 1px 2px rgba(60, 64, 67, 0.3), 0px 1px 3px 1px rgba(60, 64, 67, 0.15);\n",
              "      fill: #174EA6;\n",
              "    }\n",
              "\n",
              "    [theme=dark] .colab-df-convert {\n",
              "      background-color: #3B4455;\n",
              "      fill: #D2E3FC;\n",
              "    }\n",
              "\n",
              "    [theme=dark] .colab-df-convert:hover {\n",
              "      background-color: #434B5C;\n",
              "      box-shadow: 0px 1px 3px 1px rgba(0, 0, 0, 0.15);\n",
              "      filter: drop-shadow(0px 1px 2px rgba(0, 0, 0, 0.3));\n",
              "      fill: #FFFFFF;\n",
              "    }\n",
              "  </style>\n",
              "\n",
              "      <script>\n",
              "        const buttonEl =\n",
              "          document.querySelector('#df-af00099f-41d7-4231-ab72-1cf4ffc113cf button.colab-df-convert');\n",
              "        buttonEl.style.display =\n",
              "          google.colab.kernel.accessAllowed ? 'block' : 'none';\n",
              "\n",
              "        async function convertToInteractive(key) {\n",
              "          const element = document.querySelector('#df-af00099f-41d7-4231-ab72-1cf4ffc113cf');\n",
              "          const dataTable =\n",
              "            await google.colab.kernel.invokeFunction('convertToInteractive',\n",
              "                                                     [key], {});\n",
              "          if (!dataTable) return;\n",
              "\n",
              "          const docLinkHtml = 'Like what you see? Visit the ' +\n",
              "            '<a target=\"_blank\" href=https://colab.research.google.com/notebooks/data_table.ipynb>data table notebook</a>'\n",
              "            + ' to learn more about interactive tables.';\n",
              "          element.innerHTML = '';\n",
              "          dataTable['output_type'] = 'display_data';\n",
              "          await google.colab.output.renderOutput(dataTable, element);\n",
              "          const docLink = document.createElement('div');\n",
              "          docLink.innerHTML = docLinkHtml;\n",
              "          element.appendChild(docLink);\n",
              "        }\n",
              "      </script>\n",
              "    </div>\n",
              "  </div>\n"
            ]
          },
          "metadata": {},
          "execution_count": 3
        }
      ],
      "source": [
        "# your code should goes here\n",
        "#Printing first 7 rows of data frame\n",
        "ufo.head(7)"
      ]
    },
    {
      "cell_type": "code",
      "source": [
        "#Displaying last 7 rows of dataframe\n",
        "ufo.tail(7)"
      ],
      "metadata": {
        "colab": {
          "base_uri": "https://localhost:8080/",
          "height": 269
        },
        "id": "wXoeWszyVaXx",
        "outputId": "c45139a2-66af-49ae-a304-3ba2eefc26f2"
      },
      "id": "wXoeWszyVaXx",
      "execution_count": 4,
      "outputs": [
        {
          "output_type": "execute_result",
          "data": {
            "text/plain": [
              "                 City Colors Reported Shape Reported State              Time\n",
              "18234        Capitola             NaN       TRIANGLE    CA  12/31/2000 22:00\n",
              "18235  Fountain Hills             NaN            NaN    AZ  12/31/2000 23:00\n",
              "18236      Grant Park             NaN       TRIANGLE    IL  12/31/2000 23:00\n",
              "18237     Spirit Lake             NaN           DISK    IA  12/31/2000 23:00\n",
              "18238     Eagle River             NaN            NaN    WI  12/31/2000 23:45\n",
              "18239     Eagle River             RED          LIGHT    WI  12/31/2000 23:45\n",
              "18240            Ybor             NaN           OVAL    FL  12/31/2000 23:59"
            ],
            "text/html": [
              "\n",
              "\n",
              "  <div id=\"df-53cbaf9f-413b-40e2-8284-8fe10d644761\">\n",
              "    <div class=\"colab-df-container\">\n",
              "      <div>\n",
              "<style scoped>\n",
              "    .dataframe tbody tr th:only-of-type {\n",
              "        vertical-align: middle;\n",
              "    }\n",
              "\n",
              "    .dataframe tbody tr th {\n",
              "        vertical-align: top;\n",
              "    }\n",
              "\n",
              "    .dataframe thead th {\n",
              "        text-align: right;\n",
              "    }\n",
              "</style>\n",
              "<table border=\"1\" class=\"dataframe\">\n",
              "  <thead>\n",
              "    <tr style=\"text-align: right;\">\n",
              "      <th></th>\n",
              "      <th>City</th>\n",
              "      <th>Colors Reported</th>\n",
              "      <th>Shape Reported</th>\n",
              "      <th>State</th>\n",
              "      <th>Time</th>\n",
              "    </tr>\n",
              "  </thead>\n",
              "  <tbody>\n",
              "    <tr>\n",
              "      <th>18234</th>\n",
              "      <td>Capitola</td>\n",
              "      <td>NaN</td>\n",
              "      <td>TRIANGLE</td>\n",
              "      <td>CA</td>\n",
              "      <td>12/31/2000 22:00</td>\n",
              "    </tr>\n",
              "    <tr>\n",
              "      <th>18235</th>\n",
              "      <td>Fountain Hills</td>\n",
              "      <td>NaN</td>\n",
              "      <td>NaN</td>\n",
              "      <td>AZ</td>\n",
              "      <td>12/31/2000 23:00</td>\n",
              "    </tr>\n",
              "    <tr>\n",
              "      <th>18236</th>\n",
              "      <td>Grant Park</td>\n",
              "      <td>NaN</td>\n",
              "      <td>TRIANGLE</td>\n",
              "      <td>IL</td>\n",
              "      <td>12/31/2000 23:00</td>\n",
              "    </tr>\n",
              "    <tr>\n",
              "      <th>18237</th>\n",
              "      <td>Spirit Lake</td>\n",
              "      <td>NaN</td>\n",
              "      <td>DISK</td>\n",
              "      <td>IA</td>\n",
              "      <td>12/31/2000 23:00</td>\n",
              "    </tr>\n",
              "    <tr>\n",
              "      <th>18238</th>\n",
              "      <td>Eagle River</td>\n",
              "      <td>NaN</td>\n",
              "      <td>NaN</td>\n",
              "      <td>WI</td>\n",
              "      <td>12/31/2000 23:45</td>\n",
              "    </tr>\n",
              "    <tr>\n",
              "      <th>18239</th>\n",
              "      <td>Eagle River</td>\n",
              "      <td>RED</td>\n",
              "      <td>LIGHT</td>\n",
              "      <td>WI</td>\n",
              "      <td>12/31/2000 23:45</td>\n",
              "    </tr>\n",
              "    <tr>\n",
              "      <th>18240</th>\n",
              "      <td>Ybor</td>\n",
              "      <td>NaN</td>\n",
              "      <td>OVAL</td>\n",
              "      <td>FL</td>\n",
              "      <td>12/31/2000 23:59</td>\n",
              "    </tr>\n",
              "  </tbody>\n",
              "</table>\n",
              "</div>\n",
              "      <button class=\"colab-df-convert\" onclick=\"convertToInteractive('df-53cbaf9f-413b-40e2-8284-8fe10d644761')\"\n",
              "              title=\"Convert this dataframe to an interactive table.\"\n",
              "              style=\"display:none;\">\n",
              "\n",
              "  <svg xmlns=\"http://www.w3.org/2000/svg\" height=\"24px\"viewBox=\"0 0 24 24\"\n",
              "       width=\"24px\">\n",
              "    <path d=\"M0 0h24v24H0V0z\" fill=\"none\"/>\n",
              "    <path d=\"M18.56 5.44l.94 2.06.94-2.06 2.06-.94-2.06-.94-.94-2.06-.94 2.06-2.06.94zm-11 1L8.5 8.5l.94-2.06 2.06-.94-2.06-.94L8.5 2.5l-.94 2.06-2.06.94zm10 10l.94 2.06.94-2.06 2.06-.94-2.06-.94-.94-2.06-.94 2.06-2.06.94z\"/><path d=\"M17.41 7.96l-1.37-1.37c-.4-.4-.92-.59-1.43-.59-.52 0-1.04.2-1.43.59L10.3 9.45l-7.72 7.72c-.78.78-.78 2.05 0 2.83L4 21.41c.39.39.9.59 1.41.59.51 0 1.02-.2 1.41-.59l7.78-7.78 2.81-2.81c.8-.78.8-2.07 0-2.86zM5.41 20L4 18.59l7.72-7.72 1.47 1.35L5.41 20z\"/>\n",
              "  </svg>\n",
              "      </button>\n",
              "\n",
              "\n",
              "\n",
              "    <div id=\"df-75fcde55-b892-46b6-9da6-abe57488e9a2\">\n",
              "      <button class=\"colab-df-quickchart\" onclick=\"quickchart('df-75fcde55-b892-46b6-9da6-abe57488e9a2')\"\n",
              "              title=\"Suggest charts.\"\n",
              "              style=\"display:none;\">\n",
              "\n",
              "<svg xmlns=\"http://www.w3.org/2000/svg\" height=\"24px\"viewBox=\"0 0 24 24\"\n",
              "     width=\"24px\">\n",
              "    <g>\n",
              "        <path d=\"M19 3H5c-1.1 0-2 .9-2 2v14c0 1.1.9 2 2 2h14c1.1 0 2-.9 2-2V5c0-1.1-.9-2-2-2zM9 17H7v-7h2v7zm4 0h-2V7h2v10zm4 0h-2v-4h2v4z\"/>\n",
              "    </g>\n",
              "</svg>\n",
              "      </button>\n",
              "    </div>\n",
              "\n",
              "<style>\n",
              "  .colab-df-quickchart {\n",
              "    background-color: #E8F0FE;\n",
              "    border: none;\n",
              "    border-radius: 50%;\n",
              "    cursor: pointer;\n",
              "    display: none;\n",
              "    fill: #1967D2;\n",
              "    height: 32px;\n",
              "    padding: 0 0 0 0;\n",
              "    width: 32px;\n",
              "  }\n",
              "\n",
              "  .colab-df-quickchart:hover {\n",
              "    background-color: #E2EBFA;\n",
              "    box-shadow: 0px 1px 2px rgba(60, 64, 67, 0.3), 0px 1px 3px 1px rgba(60, 64, 67, 0.15);\n",
              "    fill: #174EA6;\n",
              "  }\n",
              "\n",
              "  [theme=dark] .colab-df-quickchart {\n",
              "    background-color: #3B4455;\n",
              "    fill: #D2E3FC;\n",
              "  }\n",
              "\n",
              "  [theme=dark] .colab-df-quickchart:hover {\n",
              "    background-color: #434B5C;\n",
              "    box-shadow: 0px 1px 3px 1px rgba(0, 0, 0, 0.15);\n",
              "    filter: drop-shadow(0px 1px 2px rgba(0, 0, 0, 0.3));\n",
              "    fill: #FFFFFF;\n",
              "  }\n",
              "</style>\n",
              "\n",
              "    <script>\n",
              "      async function quickchart(key) {\n",
              "        const containerElement = document.querySelector('#' + key);\n",
              "        const charts = await google.colab.kernel.invokeFunction(\n",
              "            'suggestCharts', [key], {});\n",
              "      }\n",
              "    </script>\n",
              "\n",
              "      <script>\n",
              "\n",
              "function displayQuickchartButton(domScope) {\n",
              "  let quickchartButtonEl =\n",
              "    domScope.querySelector('#df-75fcde55-b892-46b6-9da6-abe57488e9a2 button.colab-df-quickchart');\n",
              "  quickchartButtonEl.style.display =\n",
              "    google.colab.kernel.accessAllowed ? 'block' : 'none';\n",
              "}\n",
              "\n",
              "        displayQuickchartButton(document);\n",
              "      </script>\n",
              "      <style>\n",
              "    .colab-df-container {\n",
              "      display:flex;\n",
              "      flex-wrap:wrap;\n",
              "      gap: 12px;\n",
              "    }\n",
              "\n",
              "    .colab-df-convert {\n",
              "      background-color: #E8F0FE;\n",
              "      border: none;\n",
              "      border-radius: 50%;\n",
              "      cursor: pointer;\n",
              "      display: none;\n",
              "      fill: #1967D2;\n",
              "      height: 32px;\n",
              "      padding: 0 0 0 0;\n",
              "      width: 32px;\n",
              "    }\n",
              "\n",
              "    .colab-df-convert:hover {\n",
              "      background-color: #E2EBFA;\n",
              "      box-shadow: 0px 1px 2px rgba(60, 64, 67, 0.3), 0px 1px 3px 1px rgba(60, 64, 67, 0.15);\n",
              "      fill: #174EA6;\n",
              "    }\n",
              "\n",
              "    [theme=dark] .colab-df-convert {\n",
              "      background-color: #3B4455;\n",
              "      fill: #D2E3FC;\n",
              "    }\n",
              "\n",
              "    [theme=dark] .colab-df-convert:hover {\n",
              "      background-color: #434B5C;\n",
              "      box-shadow: 0px 1px 3px 1px rgba(0, 0, 0, 0.15);\n",
              "      filter: drop-shadow(0px 1px 2px rgba(0, 0, 0, 0.3));\n",
              "      fill: #FFFFFF;\n",
              "    }\n",
              "  </style>\n",
              "\n",
              "      <script>\n",
              "        const buttonEl =\n",
              "          document.querySelector('#df-53cbaf9f-413b-40e2-8284-8fe10d644761 button.colab-df-convert');\n",
              "        buttonEl.style.display =\n",
              "          google.colab.kernel.accessAllowed ? 'block' : 'none';\n",
              "\n",
              "        async function convertToInteractive(key) {\n",
              "          const element = document.querySelector('#df-53cbaf9f-413b-40e2-8284-8fe10d644761');\n",
              "          const dataTable =\n",
              "            await google.colab.kernel.invokeFunction('convertToInteractive',\n",
              "                                                     [key], {});\n",
              "          if (!dataTable) return;\n",
              "\n",
              "          const docLinkHtml = 'Like what you see? Visit the ' +\n",
              "            '<a target=\"_blank\" href=https://colab.research.google.com/notebooks/data_table.ipynb>data table notebook</a>'\n",
              "            + ' to learn more about interactive tables.';\n",
              "          element.innerHTML = '';\n",
              "          dataTable['output_type'] = 'display_data';\n",
              "          await google.colab.output.renderOutput(dataTable, element);\n",
              "          const docLink = document.createElement('div');\n",
              "          docLink.innerHTML = docLinkHtml;\n",
              "          element.appendChild(docLink);\n",
              "        }\n",
              "      </script>\n",
              "    </div>\n",
              "  </div>\n"
            ]
          },
          "metadata": {},
          "execution_count": 4
        }
      ]
    },
    {
      "cell_type": "markdown",
      "id": "792fba46",
      "metadata": {
        "id": "792fba46"
      },
      "source": [
        "<hr>\n",
        "Using <b>list comprehension</b>, extract all the <strong>methods</strong> that are used to save a <strong>DataFrame</strong> into <strong>disk</strong>. (4 Marks)</strong>\n",
        "<hr>"
      ]
    },
    {
      "cell_type": "code",
      "execution_count": 5,
      "id": "0f19cc6f",
      "metadata": {
        "colab": {
          "base_uri": "https://localhost:8080/"
        },
        "id": "0f19cc6f",
        "outputId": "6c2e7fe2-1339-4163-eb86-c4fee9f6a643"
      },
      "outputs": [
        {
          "output_type": "stream",
          "name": "stdout",
          "text": [
            "\t To save the file methods are ['to_clipboard', 'to_csv', 'to_dict', 'to_excel', 'to_feather', 'to_gbq', 'to_hdf', 'to_html', 'to_json', 'to_latex', 'to_markdown', 'to_numpy', 'to_orc', 'to_parquet', 'to_period', 'to_pickle', 'to_records', 'to_sql', 'to_stata', 'to_string', 'to_timestamp', 'to_xarray', 'to_xml']\n"
          ]
        }
      ],
      "source": [
        "# your code should goes here\n",
        "\n",
        "dataframe_val = [x for x in dir(pd.DataFrame)\n",
        "                          if callable(getattr(pd.DataFrame, x))\n",
        "                          and x.startswith('to_')]\n",
        "\n",
        "print(f'\\t To save the file methods are {dataframe_val}')"
      ]
    },
    {
      "cell_type": "markdown",
      "id": "2a60d2b4",
      "metadata": {
        "id": "2a60d2b4"
      },
      "source": [
        "<hr>\n",
        "Save the <strong>ufo DataFrame</strong> into the following file format:\n",
        "<ul>\n",
        "    <li> <strong>CSV</strong> format <strong>(2 Marks)</strong>\n",
        "    <li> <strong>JSON</strong> format <strong>(2 Marks)</strong>\n",
        "    <li> <strong>Excel</strong> format <strong>(2 Marks)</strong>\n",
        "    <li> <strong>HTML</strong> format <strong>(2 Marks)</strong>\n",
        "     <li> <strong>Latex</strong> format <strong>(2 Marks)</strong>\n",
        "    <li> <strong>Pickle</strong> format <strong>(2 Marks)</strong>\n",
        "</ul>\n",
        "All the files must be saved in <strong>data</strong> directory.\n",
        "<hr>"
      ]
    },
    {
      "cell_type": "code",
      "execution_count": 6,
      "id": "c9a35130",
      "metadata": {
        "id": "c9a35130"
      },
      "outputs": [],
      "source": [
        "# your code should goes here\n",
        "#Saving the dataframe into csv format\n",
        "ufo.to_csv('ufo.csv')"
      ]
    },
    {
      "cell_type": "code",
      "source": [
        "# your code should goes here\n",
        "#Saving the dataframe into json format\n",
        "ufo.to_json('ufo.json')"
      ],
      "metadata": {
        "id": "b2ZQMUK8c586"
      },
      "id": "b2ZQMUK8c586",
      "execution_count": 7,
      "outputs": []
    },
    {
      "cell_type": "code",
      "source": [
        "# your code should goes here\n",
        "#Saving the dataframe into excel format\n",
        "ufo.to_excel('ufo.xlsx')"
      ],
      "metadata": {
        "id": "QSAilVg6c-ei"
      },
      "id": "QSAilVg6c-ei",
      "execution_count": 8,
      "outputs": []
    },
    {
      "cell_type": "code",
      "source": [
        "# your code should goes here\n",
        "#Saving the dataframe into html format\n",
        "ufo.to_html('ufo.html')"
      ],
      "metadata": {
        "id": "zYGt1NzFdV89"
      },
      "id": "zYGt1NzFdV89",
      "execution_count": 9,
      "outputs": []
    },
    {
      "cell_type": "code",
      "source": [
        "# your code should goes here\n",
        "#Saving the dataframe into latex format\n",
        "ufo.to_latex('ufo.latex')"
      ],
      "metadata": {
        "colab": {
          "base_uri": "https://localhost:8080/"
        },
        "id": "rnv60maQdbU6",
        "outputId": "bca8d95d-728f-4b6e-a0d4-3157e237bb6b"
      },
      "id": "rnv60maQdbU6",
      "execution_count": 10,
      "outputs": [
        {
          "output_type": "stream",
          "name": "stderr",
          "text": [
            "<ipython-input-10-dad3b612e2df>:3: FutureWarning: In future versions `DataFrame.to_latex` is expected to utilise the base implementation of `Styler.to_latex` for formatting and rendering. The arguments signature may therefore change. It is recommended instead to use `DataFrame.style.to_latex` which also contains additional functionality.\n",
            "  ufo.to_latex('ufo.latex')\n"
          ]
        }
      ]
    },
    {
      "cell_type": "code",
      "source": [
        "# your code should goes here\n",
        "#Saving the dataframe into pickle format\n",
        "ufo.to_pickle('ufo.pickle')"
      ],
      "metadata": {
        "id": "DcfhBb-3diRY"
      },
      "id": "DcfhBb-3diRY",
      "execution_count": 11,
      "outputs": []
    },
    {
      "cell_type": "markdown",
      "id": "add6e1b8",
      "metadata": {
        "id": "add6e1b8"
      },
      "source": [
        "## Task 2 (40 Marks)"
      ]
    },
    {
      "cell_type": "markdown",
      "id": "b0b11982",
      "metadata": {
        "id": "b0b11982"
      },
      "source": [
        "*italicized text*### <hr>\n",
        "Display <strong>ufo DataFrame</strong> detailed info. <strong>(2 Marks)</strong>\n",
        "<hr>"
      ]
    },
    {
      "cell_type": "code",
      "execution_count": 12,
      "id": "a26a8313",
      "metadata": {
        "colab": {
          "base_uri": "https://localhost:8080/"
        },
        "id": "a26a8313",
        "outputId": "6548c98f-5bae-4bbe-cbaf-67f58cab49c2"
      },
      "outputs": [
        {
          "output_type": "stream",
          "name": "stdout",
          "text": [
            "<class 'pandas.core.frame.DataFrame'>\n",
            "RangeIndex: 18241 entries, 0 to 18240\n",
            "Data columns (total 5 columns):\n",
            " #   Column           Non-Null Count  Dtype \n",
            "---  ------           --------------  ----- \n",
            " 0   City             18216 non-null  object\n",
            " 1   Colors Reported  2882 non-null   object\n",
            " 2   Shape Reported   15597 non-null  object\n",
            " 3   State            18241 non-null  object\n",
            " 4   Time             18241 non-null  object\n",
            "dtypes: object(5)\n",
            "memory usage: 712.7+ KB\n"
          ]
        }
      ],
      "source": [
        "# your code should goes here\n",
        "ufo.info()"
      ]
    },
    {
      "cell_type": "markdown",
      "id": "94455e8e",
      "metadata": {
        "id": "94455e8e"
      },
      "source": [
        "<hr>\n",
        "Display <strong>ufo DataFrame</strong> shape . <strong>(2 Marks)</strong>\n",
        "<hr>"
      ]
    },
    {
      "cell_type": "code",
      "execution_count": 13,
      "id": "a2ac2c74",
      "metadata": {
        "colab": {
          "base_uri": "https://localhost:8080/"
        },
        "id": "a2ac2c74",
        "outputId": "87486971-2a30-401f-813c-701d007766ae"
      },
      "outputs": [
        {
          "output_type": "execute_result",
          "data": {
            "text/plain": [
              "(18241, 5)"
            ]
          },
          "metadata": {},
          "execution_count": 13
        }
      ],
      "source": [
        "# your code should goes here\n",
        "ufo.shape"
      ]
    },
    {
      "cell_type": "markdown",
      "id": "ad9239d4",
      "metadata": {
        "id": "ad9239d4"
      },
      "source": [
        "<hr>\n",
        "Display <strong>ufo DataFrame</strong> columns names . <strong>(2 Marks)</strong>\n",
        "<hr>"
      ]
    },
    {
      "cell_type": "code",
      "execution_count": 14,
      "id": "4d140f57",
      "metadata": {
        "id": "4d140f57",
        "colab": {
          "base_uri": "https://localhost:8080/",
          "height": 49
        },
        "outputId": "14ee8015-eda1-483b-839e-b853021e025f"
      },
      "outputs": [
        {
          "output_type": "execute_result",
          "data": {
            "text/plain": [
              "Empty DataFrame\n",
              "Columns: [City, Colors Reported, Shape Reported, State, Time]\n",
              "Index: []"
            ],
            "text/html": [
              "\n",
              "\n",
              "  <div id=\"df-0f33932e-efe3-4a6e-b762-27cbee8d2c29\">\n",
              "    <div class=\"colab-df-container\">\n",
              "      <div>\n",
              "<style scoped>\n",
              "    .dataframe tbody tr th:only-of-type {\n",
              "        vertical-align: middle;\n",
              "    }\n",
              "\n",
              "    .dataframe tbody tr th {\n",
              "        vertical-align: top;\n",
              "    }\n",
              "\n",
              "    .dataframe thead th {\n",
              "        text-align: right;\n",
              "    }\n",
              "</style>\n",
              "<table border=\"1\" class=\"dataframe\">\n",
              "  <thead>\n",
              "    <tr style=\"text-align: right;\">\n",
              "      <th></th>\n",
              "      <th>City</th>\n",
              "      <th>Colors Reported</th>\n",
              "      <th>Shape Reported</th>\n",
              "      <th>State</th>\n",
              "      <th>Time</th>\n",
              "    </tr>\n",
              "  </thead>\n",
              "  <tbody>\n",
              "  </tbody>\n",
              "</table>\n",
              "</div>\n",
              "      <button class=\"colab-df-convert\" onclick=\"convertToInteractive('df-0f33932e-efe3-4a6e-b762-27cbee8d2c29')\"\n",
              "              title=\"Convert this dataframe to an interactive table.\"\n",
              "              style=\"display:none;\">\n",
              "\n",
              "  <svg xmlns=\"http://www.w3.org/2000/svg\" height=\"24px\"viewBox=\"0 0 24 24\"\n",
              "       width=\"24px\">\n",
              "    <path d=\"M0 0h24v24H0V0z\" fill=\"none\"/>\n",
              "    <path d=\"M18.56 5.44l.94 2.06.94-2.06 2.06-.94-2.06-.94-.94-2.06-.94 2.06-2.06.94zm-11 1L8.5 8.5l.94-2.06 2.06-.94-2.06-.94L8.5 2.5l-.94 2.06-2.06.94zm10 10l.94 2.06.94-2.06 2.06-.94-2.06-.94-.94-2.06-.94 2.06-2.06.94z\"/><path d=\"M17.41 7.96l-1.37-1.37c-.4-.4-.92-.59-1.43-.59-.52 0-1.04.2-1.43.59L10.3 9.45l-7.72 7.72c-.78.78-.78 2.05 0 2.83L4 21.41c.39.39.9.59 1.41.59.51 0 1.02-.2 1.41-.59l7.78-7.78 2.81-2.81c.8-.78.8-2.07 0-2.86zM5.41 20L4 18.59l7.72-7.72 1.47 1.35L5.41 20z\"/>\n",
              "  </svg>\n",
              "      </button>\n",
              "\n",
              "\n",
              "\n",
              "    <div id=\"df-c228fd46-5c6e-406c-9fd8-9cd4ea10c525\">\n",
              "      <button class=\"colab-df-quickchart\" onclick=\"quickchart('df-c228fd46-5c6e-406c-9fd8-9cd4ea10c525')\"\n",
              "              title=\"Suggest charts.\"\n",
              "              style=\"display:none;\">\n",
              "\n",
              "<svg xmlns=\"http://www.w3.org/2000/svg\" height=\"24px\"viewBox=\"0 0 24 24\"\n",
              "     width=\"24px\">\n",
              "    <g>\n",
              "        <path d=\"M19 3H5c-1.1 0-2 .9-2 2v14c0 1.1.9 2 2 2h14c1.1 0 2-.9 2-2V5c0-1.1-.9-2-2-2zM9 17H7v-7h2v7zm4 0h-2V7h2v10zm4 0h-2v-4h2v4z\"/>\n",
              "    </g>\n",
              "</svg>\n",
              "      </button>\n",
              "    </div>\n",
              "\n",
              "<style>\n",
              "  .colab-df-quickchart {\n",
              "    background-color: #E8F0FE;\n",
              "    border: none;\n",
              "    border-radius: 50%;\n",
              "    cursor: pointer;\n",
              "    display: none;\n",
              "    fill: #1967D2;\n",
              "    height: 32px;\n",
              "    padding: 0 0 0 0;\n",
              "    width: 32px;\n",
              "  }\n",
              "\n",
              "  .colab-df-quickchart:hover {\n",
              "    background-color: #E2EBFA;\n",
              "    box-shadow: 0px 1px 2px rgba(60, 64, 67, 0.3), 0px 1px 3px 1px rgba(60, 64, 67, 0.15);\n",
              "    fill: #174EA6;\n",
              "  }\n",
              "\n",
              "  [theme=dark] .colab-df-quickchart {\n",
              "    background-color: #3B4455;\n",
              "    fill: #D2E3FC;\n",
              "  }\n",
              "\n",
              "  [theme=dark] .colab-df-quickchart:hover {\n",
              "    background-color: #434B5C;\n",
              "    box-shadow: 0px 1px 3px 1px rgba(0, 0, 0, 0.15);\n",
              "    filter: drop-shadow(0px 1px 2px rgba(0, 0, 0, 0.3));\n",
              "    fill: #FFFFFF;\n",
              "  }\n",
              "</style>\n",
              "\n",
              "    <script>\n",
              "      async function quickchart(key) {\n",
              "        const containerElement = document.querySelector('#' + key);\n",
              "        const charts = await google.colab.kernel.invokeFunction(\n",
              "            'suggestCharts', [key], {});\n",
              "      }\n",
              "    </script>\n",
              "\n",
              "      <script>\n",
              "\n",
              "function displayQuickchartButton(domScope) {\n",
              "  let quickchartButtonEl =\n",
              "    domScope.querySelector('#df-c228fd46-5c6e-406c-9fd8-9cd4ea10c525 button.colab-df-quickchart');\n",
              "  quickchartButtonEl.style.display =\n",
              "    google.colab.kernel.accessAllowed ? 'block' : 'none';\n",
              "}\n",
              "\n",
              "        displayQuickchartButton(document);\n",
              "      </script>\n",
              "      <style>\n",
              "    .colab-df-container {\n",
              "      display:flex;\n",
              "      flex-wrap:wrap;\n",
              "      gap: 12px;\n",
              "    }\n",
              "\n",
              "    .colab-df-convert {\n",
              "      background-color: #E8F0FE;\n",
              "      border: none;\n",
              "      border-radius: 50%;\n",
              "      cursor: pointer;\n",
              "      display: none;\n",
              "      fill: #1967D2;\n",
              "      height: 32px;\n",
              "      padding: 0 0 0 0;\n",
              "      width: 32px;\n",
              "    }\n",
              "\n",
              "    .colab-df-convert:hover {\n",
              "      background-color: #E2EBFA;\n",
              "      box-shadow: 0px 1px 2px rgba(60, 64, 67, 0.3), 0px 1px 3px 1px rgba(60, 64, 67, 0.15);\n",
              "      fill: #174EA6;\n",
              "    }\n",
              "\n",
              "    [theme=dark] .colab-df-convert {\n",
              "      background-color: #3B4455;\n",
              "      fill: #D2E3FC;\n",
              "    }\n",
              "\n",
              "    [theme=dark] .colab-df-convert:hover {\n",
              "      background-color: #434B5C;\n",
              "      box-shadow: 0px 1px 3px 1px rgba(0, 0, 0, 0.15);\n",
              "      filter: drop-shadow(0px 1px 2px rgba(0, 0, 0, 0.3));\n",
              "      fill: #FFFFFF;\n",
              "    }\n",
              "  </style>\n",
              "\n",
              "      <script>\n",
              "        const buttonEl =\n",
              "          document.querySelector('#df-0f33932e-efe3-4a6e-b762-27cbee8d2c29 button.colab-df-convert');\n",
              "        buttonEl.style.display =\n",
              "          google.colab.kernel.accessAllowed ? 'block' : 'none';\n",
              "\n",
              "        async function convertToInteractive(key) {\n",
              "          const element = document.querySelector('#df-0f33932e-efe3-4a6e-b762-27cbee8d2c29');\n",
              "          const dataTable =\n",
              "            await google.colab.kernel.invokeFunction('convertToInteractive',\n",
              "                                                     [key], {});\n",
              "          if (!dataTable) return;\n",
              "\n",
              "          const docLinkHtml = 'Like what you see? Visit the ' +\n",
              "            '<a target=\"_blank\" href=https://colab.research.google.com/notebooks/data_table.ipynb>data table notebook</a>'\n",
              "            + ' to learn more about interactive tables.';\n",
              "          element.innerHTML = '';\n",
              "          dataTable['output_type'] = 'display_data';\n",
              "          await google.colab.output.renderOutput(dataTable, element);\n",
              "          const docLink = document.createElement('div');\n",
              "          docLink.innerHTML = docLinkHtml;\n",
              "          element.appendChild(docLink);\n",
              "        }\n",
              "      </script>\n",
              "    </div>\n",
              "  </div>\n"
            ]
          },
          "metadata": {},
          "execution_count": 14
        }
      ],
      "source": [
        "# your code should goes here\n",
        "ufo.head(0)"
      ]
    },
    {
      "cell_type": "markdown",
      "id": "42cdebea",
      "metadata": {
        "id": "42cdebea"
      },
      "source": [
        "<hr>\n",
        "Display <strong>ufo DataFrame</strong> row names . <strong>(2 Marks)</strong>\n",
        "<hr>"
      ]
    },
    {
      "cell_type": "code",
      "execution_count": 15,
      "id": "328008be",
      "metadata": {
        "id": "328008be",
        "colab": {
          "base_uri": "https://localhost:8080/"
        },
        "outputId": "f0cf343e-9265-4ce2-856f-d9d536f3b61f"
      },
      "outputs": [
        {
          "output_type": "stream",
          "name": "stdout",
          "text": [
            "RangeIndex(start=0, stop=18241, step=1)\n"
          ]
        }
      ],
      "source": [
        "# your code should goes here\n",
        "row_val = ufo.index\n",
        "print(row_val)"
      ]
    },
    {
      "cell_type": "markdown",
      "id": "39020fb5",
      "metadata": {
        "id": "39020fb5"
      },
      "source": [
        "<hr>\n",
        "Write a <strong>function</strong> <strong>get_size_in_memory()</strong> that displays the size of a <strong>DataFrame</strong> in <strong>memory (RAM)</strong> in <strong>MegaBytes</strong>. <strong>(8 Marks)</strong>\n",
        "<hr>"
      ]
    },
    {
      "cell_type": "code",
      "execution_count": 16,
      "id": "f1a0ea93",
      "metadata": {
        "id": "f1a0ea93",
        "colab": {
          "base_uri": "https://localhost:8080/"
        },
        "outputId": "7f7ae3e0-7b7e-467f-ab85-3acabedbeea2"
      },
      "outputs": [
        {
          "output_type": "stream",
          "name": "stdout",
          "text": [
            "DataFrame size in memory: 5.08 MB\n"
          ]
        }
      ],
      "source": [
        "# your code should goes here\n",
        "import sys\n",
        "\n",
        "def get_size_in_memory(df):\n",
        "    size_bytes_val = sys.getsizeof(df)\n",
        "    size_mb_val = size_bytes_val / (1024 * 1024)\n",
        "    print(f\"DataFrame size in memory: {size_mb_val:.2f} MB\")\n",
        "\n",
        "get_size_in_memory(ufo)"
      ]
    },
    {
      "cell_type": "markdown",
      "id": "e4ebe127",
      "metadata": {
        "id": "e4ebe127"
      },
      "source": [
        "<hr>\n",
        "Using the <strong>get_size_in_memory()</strong> function, display the size <strong>ufo DataFrame</strong> in memory with <strong>5 decimal</strong> places. <strong>(4 Marks)</strong>\n",
        "<hr>"
      ]
    },
    {
      "cell_type": "code",
      "execution_count": 17,
      "id": "bfb4de8a",
      "metadata": {
        "id": "bfb4de8a",
        "colab": {
          "base_uri": "https://localhost:8080/"
        },
        "outputId": "7a997843-db04-4eef-da20-4c55bba6766c"
      },
      "outputs": [
        {
          "output_type": "stream",
          "name": "stdout",
          "text": [
            "DataFrame size in memory: 5.07897 MB\n"
          ]
        }
      ],
      "source": [
        "# your code should goes here\n",
        "import sys\n",
        "\n",
        "def get_size_in_memory(df):\n",
        "    size_bytes_val = sys.getsizeof(df)\n",
        "    size_mb_val = size_bytes_val / (1024 * 1024)\n",
        "    print(f\"DataFrame size in memory: {size_mb_val:.5f} MB\")\n",
        "\n",
        "get_size_in_memory(ufo)"
      ]
    },
    {
      "cell_type": "markdown",
      "id": "a21d343b",
      "metadata": {
        "id": "a21d343b"
      },
      "source": [
        "<hr>\n",
        "Write a <strong>function</strong> with a name <strong>get_size_in_disk()</strong> that displays the size of a file in disk in <strong>MegaBytes</strong>. <strong>(8 Marks)</strong>\n",
        "<hr>"
      ]
    },
    {
      "cell_type": "code",
      "execution_count": 18,
      "id": "09719827",
      "metadata": {
        "id": "09719827",
        "colab": {
          "base_uri": "https://localhost:8080/"
        },
        "outputId": "78d7896d-cbae-4077-b38b-6b1e46eed280"
      },
      "outputs": [
        {
          "output_type": "stream",
          "name": "stdout",
          "text": [
            "File size on disk: 0.73 MB\n"
          ]
        }
      ],
      "source": [
        "# your code should goes here\n",
        "\n",
        "def get_size_in_disk(file_path):\n",
        "    size_bytes_val = os.path.getsize(file_path)\n",
        "    size_mb_val = size_bytes_val / (1024 * 1024)\n",
        "    print(f\"File size on disk: {size_mb_val:.2f} MB\")\n",
        "\n",
        "file_path = \"/content/ufo.csv\"\n",
        "get_size_in_disk(file_path)"
      ]
    },
    {
      "cell_type": "markdown",
      "id": "67d2fc41",
      "metadata": {
        "id": "67d2fc41"
      },
      "source": [
        "[link text](https://)<hr>\n",
        "Using the <strong>get_size_in_disk()</strong> function, display the size of each <strong>ufo</strong> file with <strong>3 decimal</strong> places. <strong>(12 Marks)</strong>\n",
        "<hr>"
      ]
    },
    {
      "cell_type": "code",
      "execution_count": 32,
      "id": "cb8318a4",
      "metadata": {
        "id": "cb8318a4",
        "colab": {
          "base_uri": "https://localhost:8080/"
        },
        "outputId": "f5a1f004-f1cb-4aaa-8069-fa3e25247938"
      },
      "outputs": [
        {
          "output_type": "stream",
          "name": "stdout",
          "text": [
            "/content/ufo.csv: 749.237 KB\n"
          ]
        }
      ],
      "source": [
        "#For csv file\n",
        "import os\n",
        "\n",
        "def display_csv_file_size(file_path):\n",
        "    size_in_bytes = os.path.getsize(file_path)\n",
        "    size_in_kb = size_in_bytes / 1024.0\n",
        "    print(f\"{file_path}: {size_in_kb:.3f} KB\")\n",
        "\n",
        "csv_file_path = \"/content/ufo.csv\"\n",
        "display_csv_file_size(csv_file_path)\n"
      ]
    },
    {
      "cell_type": "code",
      "source": [
        "#For html file\n",
        "import os\n",
        "\n",
        "def display_csv_file_size(file_path):\n",
        "    size_in_bytes = os.path.getsize(file_path)\n",
        "    size_in_kb = size_in_bytes / 1024.0\n",
        "    print(f\"{file_path}: {size_in_kb:.3f} KB\")\n",
        "\n",
        "csv_file_path = \"/content/ufo.html\"\n",
        "display_csv_file_size(csv_file_path)\n"
      ],
      "metadata": {
        "colab": {
          "base_uri": "https://localhost:8080/"
        },
        "id": "VI7v9Y6kHnsB",
        "outputId": "002ade33-40af-40ee-c9b8-5eb90bcd5660"
      },
      "id": "VI7v9Y6kHnsB",
      "execution_count": 33,
      "outputs": [
        {
          "output_type": "stream",
          "name": "stdout",
          "text": [
            "/content/ufo.html: 2743.872 KB\n"
          ]
        }
      ]
    },
    {
      "cell_type": "code",
      "source": [
        "#For json file\n",
        "import os\n",
        "\n",
        "def display_csv_file_size(file_path):\n",
        "    size_in_bytes = os.path.getsize(file_path)\n",
        "    size_in_kb = size_in_bytes / 1024.0\n",
        "    print(f\"{file_path}: {size_in_kb:.3f} KB\")\n",
        "\n",
        "csv_file_path = \"/content/ufo.json\"\n",
        "display_csv_file_size(csv_file_path)\n"
      ],
      "metadata": {
        "colab": {
          "base_uri": "https://localhost:8080/"
        },
        "id": "dXDZ_iJSHrXH",
        "outputId": "76416780-823a-4a29-df6d-4859e782a00b"
      },
      "id": "dXDZ_iJSHrXH",
      "execution_count": 34,
      "outputs": [
        {
          "output_type": "stream",
          "name": "stdout",
          "text": [
            "/content/ufo.json: 1560.421 KB\n"
          ]
        }
      ]
    },
    {
      "cell_type": "code",
      "source": [
        "#For latex file\n",
        "import os\n",
        "\n",
        "def display_csv_file_size(file_path):\n",
        "    size_in_bytes = os.path.getsize(file_path)\n",
        "    size_in_kb = size_in_bytes / 1024.0\n",
        "    print(f\"{file_path}: {size_in_kb:.3f} KB\")\n",
        "\n",
        "csv_file_path = \"/content/ufo.latex\"\n",
        "display_csv_file_size(csv_file_path)\n"
      ],
      "metadata": {
        "colab": {
          "base_uri": "https://localhost:8080/"
        },
        "id": "ruxjUzlyHt5t",
        "outputId": "6986013f-d2fd-4cd2-a648-84cc5a30009b"
      },
      "id": "ruxjUzlyHt5t",
      "execution_count": 35,
      "outputs": [
        {
          "output_type": "stream",
          "name": "stdout",
          "text": [
            "/content/ufo.latex: 2369.390 KB\n"
          ]
        }
      ]
    },
    {
      "cell_type": "code",
      "source": [
        "#For pickle file\n",
        "import os\n",
        "\n",
        "def display_csv_file_size(file_path):\n",
        "    size_in_bytes = os.path.getsize(file_path)\n",
        "    size_in_kb = size_in_bytes / 1024.0\n",
        "    print(f\"{file_path}: {size_in_kb:.3f} KB\")\n",
        "\n",
        "csv_file_path = \"/content/ufo.pickle\"\n",
        "display_csv_file_size(csv_file_path)\n"
      ],
      "metadata": {
        "colab": {
          "base_uri": "https://localhost:8080/"
        },
        "id": "D6-ZbKxuH5B_",
        "outputId": "196f6bcf-7672-4ba4-f626-540693dd2fe2"
      },
      "id": "D6-ZbKxuH5B_",
      "execution_count": 36,
      "outputs": [
        {
          "output_type": "stream",
          "name": "stdout",
          "text": [
            "/content/ufo.pickle: 759.434 KB\n"
          ]
        }
      ]
    },
    {
      "cell_type": "code",
      "source": [
        "#For xlsx file\n",
        "import os\n",
        "\n",
        "def display_csv_file_size(file_path):\n",
        "    size_in_bytes = os.path.getsize(file_path)\n",
        "    size_in_kb = size_in_bytes / 1024.0\n",
        "    print(f\"{file_path}: {size_in_kb:.3f} KB\")\n",
        "\n",
        "csv_file_path = \"/content/ufo.xlsx\"\n",
        "display_csv_file_size(csv_file_path)\n"
      ],
      "metadata": {
        "colab": {
          "base_uri": "https://localhost:8080/"
        },
        "id": "oaTdPbRYH9Cy",
        "outputId": "db6c880f-4e8f-4fd9-d83e-981fd8b3e6ee"
      },
      "id": "oaTdPbRYH9Cy",
      "execution_count": 37,
      "outputs": [
        {
          "output_type": "stream",
          "name": "stdout",
          "text": [
            "/content/ufo.xlsx: 680.438 KB\n"
          ]
        }
      ]
    },
    {
      "cell_type": "markdown",
      "id": "4bcbd3dc",
      "metadata": {
        "id": "4bcbd3dc"
      },
      "source": [
        "### Task 3 (40 Marks)"
      ]
    },
    {
      "cell_type": "markdown",
      "id": "29f23d72",
      "metadata": {
        "id": "29f23d72"
      },
      "source": [
        "Display the number of missing values per each column. (<strong>4 Marks</strong>)"
      ]
    },
    {
      "cell_type": "code",
      "execution_count": 38,
      "id": "7c1c13b9",
      "metadata": {
        "id": "7c1c13b9",
        "colab": {
          "base_uri": "https://localhost:8080/"
        },
        "outputId": "60ca1c69-f393-454b-c4ec-7553c424006d"
      },
      "outputs": [
        {
          "output_type": "execute_result",
          "data": {
            "text/plain": [
              "City                  25\n",
              "Colors Reported    15359\n",
              "Shape Reported      2644\n",
              "State                  0\n",
              "Time                   0\n",
              "dtype: int64"
            ]
          },
          "metadata": {},
          "execution_count": 38
        }
      ],
      "source": [
        "# your code should goes here\n",
        "ufo.isna().sum()"
      ]
    },
    {
      "cell_type": "markdown",
      "id": "de24c8d9",
      "metadata": {
        "id": "de24c8d9"
      },
      "source": [
        "Remove all the <strong>rows</strong> with missing values and store the result in a <strong>DataFrame</strong> with a name <strong>ufo_clean</strong>. Check that all <strong>missing values</strong> are removed.(<strong>6 Marks</strong>)"
      ]
    },
    {
      "cell_type": "code",
      "execution_count": 39,
      "id": "21bc0266",
      "metadata": {
        "id": "21bc0266",
        "colab": {
          "base_uri": "https://localhost:8080/",
          "height": 424
        },
        "outputId": "e73f7514-df37-4b85-ba77-676de91f5a58"
      },
      "outputs": [
        {
          "output_type": "execute_result",
          "data": {
            "text/plain": [
              "                       City Colors Reported Shape Reported State  \\\n",
              "0                    Ithaca             NaN       TRIANGLE    NY   \n",
              "1               Willingboro             NaN          OTHER    NJ   \n",
              "2                   Holyoke             NaN           OVAL    CO   \n",
              "3                   Abilene             NaN           DISK    KS   \n",
              "4      New York Worlds Fair             NaN          LIGHT    NY   \n",
              "...                     ...             ...            ...   ...   \n",
              "18236            Grant Park             NaN       TRIANGLE    IL   \n",
              "18237           Spirit Lake             NaN           DISK    IA   \n",
              "18238           Eagle River             NaN            NaN    WI   \n",
              "18239           Eagle River             RED          LIGHT    WI   \n",
              "18240                  Ybor             NaN           OVAL    FL   \n",
              "\n",
              "                   Time  \n",
              "0        6/1/1930 22:00  \n",
              "1       6/30/1930 20:00  \n",
              "2       2/15/1931 14:00  \n",
              "3        6/1/1931 13:00  \n",
              "4       4/18/1933 19:00  \n",
              "...                 ...  \n",
              "18236  12/31/2000 23:00  \n",
              "18237  12/31/2000 23:00  \n",
              "18238  12/31/2000 23:45  \n",
              "18239  12/31/2000 23:45  \n",
              "18240  12/31/2000 23:59  \n",
              "\n",
              "[18241 rows x 5 columns]"
            ],
            "text/html": [
              "\n",
              "\n",
              "  <div id=\"df-ccd9f256-13e0-41fe-ae7c-7b7806521509\">\n",
              "    <div class=\"colab-df-container\">\n",
              "      <div>\n",
              "<style scoped>\n",
              "    .dataframe tbody tr th:only-of-type {\n",
              "        vertical-align: middle;\n",
              "    }\n",
              "\n",
              "    .dataframe tbody tr th {\n",
              "        vertical-align: top;\n",
              "    }\n",
              "\n",
              "    .dataframe thead th {\n",
              "        text-align: right;\n",
              "    }\n",
              "</style>\n",
              "<table border=\"1\" class=\"dataframe\">\n",
              "  <thead>\n",
              "    <tr style=\"text-align: right;\">\n",
              "      <th></th>\n",
              "      <th>City</th>\n",
              "      <th>Colors Reported</th>\n",
              "      <th>Shape Reported</th>\n",
              "      <th>State</th>\n",
              "      <th>Time</th>\n",
              "    </tr>\n",
              "  </thead>\n",
              "  <tbody>\n",
              "    <tr>\n",
              "      <th>0</th>\n",
              "      <td>Ithaca</td>\n",
              "      <td>NaN</td>\n",
              "      <td>TRIANGLE</td>\n",
              "      <td>NY</td>\n",
              "      <td>6/1/1930 22:00</td>\n",
              "    </tr>\n",
              "    <tr>\n",
              "      <th>1</th>\n",
              "      <td>Willingboro</td>\n",
              "      <td>NaN</td>\n",
              "      <td>OTHER</td>\n",
              "      <td>NJ</td>\n",
              "      <td>6/30/1930 20:00</td>\n",
              "    </tr>\n",
              "    <tr>\n",
              "      <th>2</th>\n",
              "      <td>Holyoke</td>\n",
              "      <td>NaN</td>\n",
              "      <td>OVAL</td>\n",
              "      <td>CO</td>\n",
              "      <td>2/15/1931 14:00</td>\n",
              "    </tr>\n",
              "    <tr>\n",
              "      <th>3</th>\n",
              "      <td>Abilene</td>\n",
              "      <td>NaN</td>\n",
              "      <td>DISK</td>\n",
              "      <td>KS</td>\n",
              "      <td>6/1/1931 13:00</td>\n",
              "    </tr>\n",
              "    <tr>\n",
              "      <th>4</th>\n",
              "      <td>New York Worlds Fair</td>\n",
              "      <td>NaN</td>\n",
              "      <td>LIGHT</td>\n",
              "      <td>NY</td>\n",
              "      <td>4/18/1933 19:00</td>\n",
              "    </tr>\n",
              "    <tr>\n",
              "      <th>...</th>\n",
              "      <td>...</td>\n",
              "      <td>...</td>\n",
              "      <td>...</td>\n",
              "      <td>...</td>\n",
              "      <td>...</td>\n",
              "    </tr>\n",
              "    <tr>\n",
              "      <th>18236</th>\n",
              "      <td>Grant Park</td>\n",
              "      <td>NaN</td>\n",
              "      <td>TRIANGLE</td>\n",
              "      <td>IL</td>\n",
              "      <td>12/31/2000 23:00</td>\n",
              "    </tr>\n",
              "    <tr>\n",
              "      <th>18237</th>\n",
              "      <td>Spirit Lake</td>\n",
              "      <td>NaN</td>\n",
              "      <td>DISK</td>\n",
              "      <td>IA</td>\n",
              "      <td>12/31/2000 23:00</td>\n",
              "    </tr>\n",
              "    <tr>\n",
              "      <th>18238</th>\n",
              "      <td>Eagle River</td>\n",
              "      <td>NaN</td>\n",
              "      <td>NaN</td>\n",
              "      <td>WI</td>\n",
              "      <td>12/31/2000 23:45</td>\n",
              "    </tr>\n",
              "    <tr>\n",
              "      <th>18239</th>\n",
              "      <td>Eagle River</td>\n",
              "      <td>RED</td>\n",
              "      <td>LIGHT</td>\n",
              "      <td>WI</td>\n",
              "      <td>12/31/2000 23:45</td>\n",
              "    </tr>\n",
              "    <tr>\n",
              "      <th>18240</th>\n",
              "      <td>Ybor</td>\n",
              "      <td>NaN</td>\n",
              "      <td>OVAL</td>\n",
              "      <td>FL</td>\n",
              "      <td>12/31/2000 23:59</td>\n",
              "    </tr>\n",
              "  </tbody>\n",
              "</table>\n",
              "<p>18241 rows × 5 columns</p>\n",
              "</div>\n",
              "      <button class=\"colab-df-convert\" onclick=\"convertToInteractive('df-ccd9f256-13e0-41fe-ae7c-7b7806521509')\"\n",
              "              title=\"Convert this dataframe to an interactive table.\"\n",
              "              style=\"display:none;\">\n",
              "\n",
              "  <svg xmlns=\"http://www.w3.org/2000/svg\" height=\"24px\"viewBox=\"0 0 24 24\"\n",
              "       width=\"24px\">\n",
              "    <path d=\"M0 0h24v24H0V0z\" fill=\"none\"/>\n",
              "    <path d=\"M18.56 5.44l.94 2.06.94-2.06 2.06-.94-2.06-.94-.94-2.06-.94 2.06-2.06.94zm-11 1L8.5 8.5l.94-2.06 2.06-.94-2.06-.94L8.5 2.5l-.94 2.06-2.06.94zm10 10l.94 2.06.94-2.06 2.06-.94-2.06-.94-.94-2.06-.94 2.06-2.06.94z\"/><path d=\"M17.41 7.96l-1.37-1.37c-.4-.4-.92-.59-1.43-.59-.52 0-1.04.2-1.43.59L10.3 9.45l-7.72 7.72c-.78.78-.78 2.05 0 2.83L4 21.41c.39.39.9.59 1.41.59.51 0 1.02-.2 1.41-.59l7.78-7.78 2.81-2.81c.8-.78.8-2.07 0-2.86zM5.41 20L4 18.59l7.72-7.72 1.47 1.35L5.41 20z\"/>\n",
              "  </svg>\n",
              "      </button>\n",
              "\n",
              "\n",
              "\n",
              "    <div id=\"df-adabc95e-7c26-4eb6-8599-e94bfcc0da3e\">\n",
              "      <button class=\"colab-df-quickchart\" onclick=\"quickchart('df-adabc95e-7c26-4eb6-8599-e94bfcc0da3e')\"\n",
              "              title=\"Suggest charts.\"\n",
              "              style=\"display:none;\">\n",
              "\n",
              "<svg xmlns=\"http://www.w3.org/2000/svg\" height=\"24px\"viewBox=\"0 0 24 24\"\n",
              "     width=\"24px\">\n",
              "    <g>\n",
              "        <path d=\"M19 3H5c-1.1 0-2 .9-2 2v14c0 1.1.9 2 2 2h14c1.1 0 2-.9 2-2V5c0-1.1-.9-2-2-2zM9 17H7v-7h2v7zm4 0h-2V7h2v10zm4 0h-2v-4h2v4z\"/>\n",
              "    </g>\n",
              "</svg>\n",
              "      </button>\n",
              "    </div>\n",
              "\n",
              "<style>\n",
              "  .colab-df-quickchart {\n",
              "    background-color: #E8F0FE;\n",
              "    border: none;\n",
              "    border-radius: 50%;\n",
              "    cursor: pointer;\n",
              "    display: none;\n",
              "    fill: #1967D2;\n",
              "    height: 32px;\n",
              "    padding: 0 0 0 0;\n",
              "    width: 32px;\n",
              "  }\n",
              "\n",
              "  .colab-df-quickchart:hover {\n",
              "    background-color: #E2EBFA;\n",
              "    box-shadow: 0px 1px 2px rgba(60, 64, 67, 0.3), 0px 1px 3px 1px rgba(60, 64, 67, 0.15);\n",
              "    fill: #174EA6;\n",
              "  }\n",
              "\n",
              "  [theme=dark] .colab-df-quickchart {\n",
              "    background-color: #3B4455;\n",
              "    fill: #D2E3FC;\n",
              "  }\n",
              "\n",
              "  [theme=dark] .colab-df-quickchart:hover {\n",
              "    background-color: #434B5C;\n",
              "    box-shadow: 0px 1px 3px 1px rgba(0, 0, 0, 0.15);\n",
              "    filter: drop-shadow(0px 1px 2px rgba(0, 0, 0, 0.3));\n",
              "    fill: #FFFFFF;\n",
              "  }\n",
              "</style>\n",
              "\n",
              "    <script>\n",
              "      async function quickchart(key) {\n",
              "        const containerElement = document.querySelector('#' + key);\n",
              "        const charts = await google.colab.kernel.invokeFunction(\n",
              "            'suggestCharts', [key], {});\n",
              "      }\n",
              "    </script>\n",
              "\n",
              "      <script>\n",
              "\n",
              "function displayQuickchartButton(domScope) {\n",
              "  let quickchartButtonEl =\n",
              "    domScope.querySelector('#df-adabc95e-7c26-4eb6-8599-e94bfcc0da3e button.colab-df-quickchart');\n",
              "  quickchartButtonEl.style.display =\n",
              "    google.colab.kernel.accessAllowed ? 'block' : 'none';\n",
              "}\n",
              "\n",
              "        displayQuickchartButton(document);\n",
              "      </script>\n",
              "      <style>\n",
              "    .colab-df-container {\n",
              "      display:flex;\n",
              "      flex-wrap:wrap;\n",
              "      gap: 12px;\n",
              "    }\n",
              "\n",
              "    .colab-df-convert {\n",
              "      background-color: #E8F0FE;\n",
              "      border: none;\n",
              "      border-radius: 50%;\n",
              "      cursor: pointer;\n",
              "      display: none;\n",
              "      fill: #1967D2;\n",
              "      height: 32px;\n",
              "      padding: 0 0 0 0;\n",
              "      width: 32px;\n",
              "    }\n",
              "\n",
              "    .colab-df-convert:hover {\n",
              "      background-color: #E2EBFA;\n",
              "      box-shadow: 0px 1px 2px rgba(60, 64, 67, 0.3), 0px 1px 3px 1px rgba(60, 64, 67, 0.15);\n",
              "      fill: #174EA6;\n",
              "    }\n",
              "\n",
              "    [theme=dark] .colab-df-convert {\n",
              "      background-color: #3B4455;\n",
              "      fill: #D2E3FC;\n",
              "    }\n",
              "\n",
              "    [theme=dark] .colab-df-convert:hover {\n",
              "      background-color: #434B5C;\n",
              "      box-shadow: 0px 1px 3px 1px rgba(0, 0, 0, 0.15);\n",
              "      filter: drop-shadow(0px 1px 2px rgba(0, 0, 0, 0.3));\n",
              "      fill: #FFFFFF;\n",
              "    }\n",
              "  </style>\n",
              "\n",
              "      <script>\n",
              "        const buttonEl =\n",
              "          document.querySelector('#df-ccd9f256-13e0-41fe-ae7c-7b7806521509 button.colab-df-convert');\n",
              "        buttonEl.style.display =\n",
              "          google.colab.kernel.accessAllowed ? 'block' : 'none';\n",
              "\n",
              "        async function convertToInteractive(key) {\n",
              "          const element = document.querySelector('#df-ccd9f256-13e0-41fe-ae7c-7b7806521509');\n",
              "          const dataTable =\n",
              "            await google.colab.kernel.invokeFunction('convertToInteractive',\n",
              "                                                     [key], {});\n",
              "          if (!dataTable) return;\n",
              "\n",
              "          const docLinkHtml = 'Like what you see? Visit the ' +\n",
              "            '<a target=\"_blank\" href=https://colab.research.google.com/notebooks/data_table.ipynb>data table notebook</a>'\n",
              "            + ' to learn more about interactive tables.';\n",
              "          element.innerHTML = '';\n",
              "          dataTable['output_type'] = 'display_data';\n",
              "          await google.colab.output.renderOutput(dataTable, element);\n",
              "          const docLink = document.createElement('div');\n",
              "          docLink.innerHTML = docLinkHtml;\n",
              "          element.appendChild(docLink);\n",
              "        }\n",
              "      </script>\n",
              "    </div>\n",
              "  </div>\n"
            ]
          },
          "metadata": {},
          "execution_count": 39
        }
      ],
      "source": [
        "# your code should goes here\n",
        "ufo_df1=ufo\n",
        "ufo_df1"
      ]
    },
    {
      "cell_type": "code",
      "source": [
        "#Removing null values\n",
        "ufo_df1.dropna(inplace= True)\n",
        "ufo_df1.shape"
      ],
      "metadata": {
        "colab": {
          "base_uri": "https://localhost:8080/"
        },
        "id": "OWJfB5UkIOrB",
        "outputId": "21915ff3-4251-40bc-f3d4-1cde463bdb66"
      },
      "id": "OWJfB5UkIOrB",
      "execution_count": 41,
      "outputs": [
        {
          "output_type": "execute_result",
          "data": {
            "text/plain": [
              "(2486, 5)"
            ]
          },
          "metadata": {},
          "execution_count": 41
        }
      ]
    },
    {
      "cell_type": "code",
      "source": [
        "#checking for any missing values\n",
        "ufo_df1.isna().sum()"
      ],
      "metadata": {
        "colab": {
          "base_uri": "https://localhost:8080/"
        },
        "id": "Js-AHxc7Ibzf",
        "outputId": "dd2c40b7-cd4e-4f72-afaf-8f8d35adfba7"
      },
      "id": "Js-AHxc7Ibzf",
      "execution_count": 42,
      "outputs": [
        {
          "output_type": "execute_result",
          "data": {
            "text/plain": [
              "City               0\n",
              "Colors Reported    0\n",
              "Shape Reported     0\n",
              "State              0\n",
              "Time               0\n",
              "dtype: int64"
            ]
          },
          "metadata": {},
          "execution_count": 42
        }
      ]
    },
    {
      "cell_type": "markdown",
      "id": "1800c7d7",
      "metadata": {
        "id": "1800c7d7"
      },
      "source": [
        "<hr>\n",
        "Save the <strong>clean ufo DataFrame</strong> into the following file format:\n",
        "<ul>\n",
        "    <li> <strong>CSV</strong> format <strong>(1 Marks)</strong>\n",
        "    <li> <strong>JSON</strong> format <strong>(1 Marks)</strong>\n",
        "    <li> <strong>Excel</strong> format <strong>(1 Marks)</strong>\n",
        "    <li> <strong>HTML</strong> format <strong>(1 Marks)</strong>\n",
        "     <li> <strong>Latex</strong> format <strong>(1 Marks)</strong>\n",
        "    <li> <strong>Pickle</strong> format <strong>(1 Marks)</strong>\n",
        "</ul>\n",
        "All the files must be saved in <strong>data</strong> directory.\n",
        "<hr>"
      ]
    },
    {
      "cell_type": "code",
      "execution_count": 44,
      "id": "b4c27e8c",
      "metadata": {
        "id": "b4c27e8c"
      },
      "outputs": [],
      "source": [
        "# your code should goes here\n",
        "#csv\n",
        "ufo_df1.to_csv('ufo_df1.csv')"
      ]
    },
    {
      "cell_type": "code",
      "source": [
        "#html\n",
        "ufo_df1.to_csv('ufo_df1.html')"
      ],
      "metadata": {
        "id": "JXCITnChInMC"
      },
      "id": "JXCITnChInMC",
      "execution_count": 45,
      "outputs": []
    },
    {
      "cell_type": "code",
      "source": [
        "#json\n",
        "ufo_df1.to_csv('ufo_df1.json')"
      ],
      "metadata": {
        "id": "7GZjUVUyIvM2"
      },
      "id": "7GZjUVUyIvM2",
      "execution_count": 46,
      "outputs": []
    },
    {
      "cell_type": "code",
      "source": [
        "#latex\n",
        "ufo_df1.to_csv('ufo_df1.latex')"
      ],
      "metadata": {
        "id": "BHiqHxxYIyya"
      },
      "id": "BHiqHxxYIyya",
      "execution_count": 47,
      "outputs": []
    },
    {
      "cell_type": "code",
      "source": [
        "#pickle\n",
        "ufo_df1.to_csv('ufo_df1.pickle')"
      ],
      "metadata": {
        "id": "IGmPK7_6I6GW"
      },
      "id": "IGmPK7_6I6GW",
      "execution_count": 48,
      "outputs": []
    },
    {
      "cell_type": "code",
      "source": [
        "#xlsx\n",
        "ufo_df1.to_csv('ufo_df1.xlsx')"
      ],
      "metadata": {
        "id": "gEhVeSVTJDUS"
      },
      "id": "gEhVeSVTJDUS",
      "execution_count": 49,
      "outputs": []
    },
    {
      "cell_type": "markdown",
      "id": "d1bf0890",
      "metadata": {
        "id": "d1bf0890"
      },
      "source": [
        "<hr>\n",
        "Compute all the <strong>different UFO colors</strong> and the number of <strong>different UFO colors</strong>.(<strong>4 Marks</strong>)\n",
        "<hr>"
      ]
    },
    {
      "cell_type": "code",
      "source": [
        "ufo_df1"
      ],
      "metadata": {
        "colab": {
          "base_uri": "https://localhost:8080/",
          "height": 424
        },
        "id": "ts72kimbNV8x",
        "outputId": "f52604c5-ded0-4bc8-c6c8-a8d206a9851c"
      },
      "id": "ts72kimbNV8x",
      "execution_count": 50,
      "outputs": [
        {
          "output_type": "execute_result",
          "data": {
            "text/plain": [
              "               City Colors Reported Shape Reported State              Time\n",
              "12           Belton             RED         SPHERE    SC   6/30/1939 20:00\n",
              "19       Bering Sea             RED          OTHER    AK   4/30/1943 23:00\n",
              "36       Portsmouth             RED      FORMATION    VA    7/10/1945 1:30\n",
              "44        Blairsden           GREEN         SPHERE    CA   6/30/1946 19:00\n",
              "82         San Jose            BLUE        CHEVRON    CA   7/15/1947 21:00\n",
              "...             ...             ...            ...   ...               ...\n",
              "18213      Pasadena           GREEN       FIREBALL    CA  12/28/2000 19:10\n",
              "18216  Garden Grove          ORANGE          LIGHT    CA  12/29/2000 16:10\n",
              "18220   Shasta Lake            BLUE           DISK    CA  12/29/2000 20:30\n",
              "18233     Anchorage             RED        VARIOUS    AK  12/31/2000 21:00\n",
              "18239   Eagle River             RED          LIGHT    WI  12/31/2000 23:45\n",
              "\n",
              "[2486 rows x 5 columns]"
            ],
            "text/html": [
              "\n",
              "\n",
              "  <div id=\"df-c94dcc68-375c-4fd5-9ba6-36c86ef37d6b\">\n",
              "    <div class=\"colab-df-container\">\n",
              "      <div>\n",
              "<style scoped>\n",
              "    .dataframe tbody tr th:only-of-type {\n",
              "        vertical-align: middle;\n",
              "    }\n",
              "\n",
              "    .dataframe tbody tr th {\n",
              "        vertical-align: top;\n",
              "    }\n",
              "\n",
              "    .dataframe thead th {\n",
              "        text-align: right;\n",
              "    }\n",
              "</style>\n",
              "<table border=\"1\" class=\"dataframe\">\n",
              "  <thead>\n",
              "    <tr style=\"text-align: right;\">\n",
              "      <th></th>\n",
              "      <th>City</th>\n",
              "      <th>Colors Reported</th>\n",
              "      <th>Shape Reported</th>\n",
              "      <th>State</th>\n",
              "      <th>Time</th>\n",
              "    </tr>\n",
              "  </thead>\n",
              "  <tbody>\n",
              "    <tr>\n",
              "      <th>12</th>\n",
              "      <td>Belton</td>\n",
              "      <td>RED</td>\n",
              "      <td>SPHERE</td>\n",
              "      <td>SC</td>\n",
              "      <td>6/30/1939 20:00</td>\n",
              "    </tr>\n",
              "    <tr>\n",
              "      <th>19</th>\n",
              "      <td>Bering Sea</td>\n",
              "      <td>RED</td>\n",
              "      <td>OTHER</td>\n",
              "      <td>AK</td>\n",
              "      <td>4/30/1943 23:00</td>\n",
              "    </tr>\n",
              "    <tr>\n",
              "      <th>36</th>\n",
              "      <td>Portsmouth</td>\n",
              "      <td>RED</td>\n",
              "      <td>FORMATION</td>\n",
              "      <td>VA</td>\n",
              "      <td>7/10/1945 1:30</td>\n",
              "    </tr>\n",
              "    <tr>\n",
              "      <th>44</th>\n",
              "      <td>Blairsden</td>\n",
              "      <td>GREEN</td>\n",
              "      <td>SPHERE</td>\n",
              "      <td>CA</td>\n",
              "      <td>6/30/1946 19:00</td>\n",
              "    </tr>\n",
              "    <tr>\n",
              "      <th>82</th>\n",
              "      <td>San Jose</td>\n",
              "      <td>BLUE</td>\n",
              "      <td>CHEVRON</td>\n",
              "      <td>CA</td>\n",
              "      <td>7/15/1947 21:00</td>\n",
              "    </tr>\n",
              "    <tr>\n",
              "      <th>...</th>\n",
              "      <td>...</td>\n",
              "      <td>...</td>\n",
              "      <td>...</td>\n",
              "      <td>...</td>\n",
              "      <td>...</td>\n",
              "    </tr>\n",
              "    <tr>\n",
              "      <th>18213</th>\n",
              "      <td>Pasadena</td>\n",
              "      <td>GREEN</td>\n",
              "      <td>FIREBALL</td>\n",
              "      <td>CA</td>\n",
              "      <td>12/28/2000 19:10</td>\n",
              "    </tr>\n",
              "    <tr>\n",
              "      <th>18216</th>\n",
              "      <td>Garden Grove</td>\n",
              "      <td>ORANGE</td>\n",
              "      <td>LIGHT</td>\n",
              "      <td>CA</td>\n",
              "      <td>12/29/2000 16:10</td>\n",
              "    </tr>\n",
              "    <tr>\n",
              "      <th>18220</th>\n",
              "      <td>Shasta Lake</td>\n",
              "      <td>BLUE</td>\n",
              "      <td>DISK</td>\n",
              "      <td>CA</td>\n",
              "      <td>12/29/2000 20:30</td>\n",
              "    </tr>\n",
              "    <tr>\n",
              "      <th>18233</th>\n",
              "      <td>Anchorage</td>\n",
              "      <td>RED</td>\n",
              "      <td>VARIOUS</td>\n",
              "      <td>AK</td>\n",
              "      <td>12/31/2000 21:00</td>\n",
              "    </tr>\n",
              "    <tr>\n",
              "      <th>18239</th>\n",
              "      <td>Eagle River</td>\n",
              "      <td>RED</td>\n",
              "      <td>LIGHT</td>\n",
              "      <td>WI</td>\n",
              "      <td>12/31/2000 23:45</td>\n",
              "    </tr>\n",
              "  </tbody>\n",
              "</table>\n",
              "<p>2486 rows × 5 columns</p>\n",
              "</div>\n",
              "      <button class=\"colab-df-convert\" onclick=\"convertToInteractive('df-c94dcc68-375c-4fd5-9ba6-36c86ef37d6b')\"\n",
              "              title=\"Convert this dataframe to an interactive table.\"\n",
              "              style=\"display:none;\">\n",
              "\n",
              "  <svg xmlns=\"http://www.w3.org/2000/svg\" height=\"24px\"viewBox=\"0 0 24 24\"\n",
              "       width=\"24px\">\n",
              "    <path d=\"M0 0h24v24H0V0z\" fill=\"none\"/>\n",
              "    <path d=\"M18.56 5.44l.94 2.06.94-2.06 2.06-.94-2.06-.94-.94-2.06-.94 2.06-2.06.94zm-11 1L8.5 8.5l.94-2.06 2.06-.94-2.06-.94L8.5 2.5l-.94 2.06-2.06.94zm10 10l.94 2.06.94-2.06 2.06-.94-2.06-.94-.94-2.06-.94 2.06-2.06.94z\"/><path d=\"M17.41 7.96l-1.37-1.37c-.4-.4-.92-.59-1.43-.59-.52 0-1.04.2-1.43.59L10.3 9.45l-7.72 7.72c-.78.78-.78 2.05 0 2.83L4 21.41c.39.39.9.59 1.41.59.51 0 1.02-.2 1.41-.59l7.78-7.78 2.81-2.81c.8-.78.8-2.07 0-2.86zM5.41 20L4 18.59l7.72-7.72 1.47 1.35L5.41 20z\"/>\n",
              "  </svg>\n",
              "      </button>\n",
              "\n",
              "\n",
              "\n",
              "    <div id=\"df-8be29e44-9945-48ce-a593-30a407083105\">\n",
              "      <button class=\"colab-df-quickchart\" onclick=\"quickchart('df-8be29e44-9945-48ce-a593-30a407083105')\"\n",
              "              title=\"Suggest charts.\"\n",
              "              style=\"display:none;\">\n",
              "\n",
              "<svg xmlns=\"http://www.w3.org/2000/svg\" height=\"24px\"viewBox=\"0 0 24 24\"\n",
              "     width=\"24px\">\n",
              "    <g>\n",
              "        <path d=\"M19 3H5c-1.1 0-2 .9-2 2v14c0 1.1.9 2 2 2h14c1.1 0 2-.9 2-2V5c0-1.1-.9-2-2-2zM9 17H7v-7h2v7zm4 0h-2V7h2v10zm4 0h-2v-4h2v4z\"/>\n",
              "    </g>\n",
              "</svg>\n",
              "      </button>\n",
              "    </div>\n",
              "\n",
              "<style>\n",
              "  .colab-df-quickchart {\n",
              "    background-color: #E8F0FE;\n",
              "    border: none;\n",
              "    border-radius: 50%;\n",
              "    cursor: pointer;\n",
              "    display: none;\n",
              "    fill: #1967D2;\n",
              "    height: 32px;\n",
              "    padding: 0 0 0 0;\n",
              "    width: 32px;\n",
              "  }\n",
              "\n",
              "  .colab-df-quickchart:hover {\n",
              "    background-color: #E2EBFA;\n",
              "    box-shadow: 0px 1px 2px rgba(60, 64, 67, 0.3), 0px 1px 3px 1px rgba(60, 64, 67, 0.15);\n",
              "    fill: #174EA6;\n",
              "  }\n",
              "\n",
              "  [theme=dark] .colab-df-quickchart {\n",
              "    background-color: #3B4455;\n",
              "    fill: #D2E3FC;\n",
              "  }\n",
              "\n",
              "  [theme=dark] .colab-df-quickchart:hover {\n",
              "    background-color: #434B5C;\n",
              "    box-shadow: 0px 1px 3px 1px rgba(0, 0, 0, 0.15);\n",
              "    filter: drop-shadow(0px 1px 2px rgba(0, 0, 0, 0.3));\n",
              "    fill: #FFFFFF;\n",
              "  }\n",
              "</style>\n",
              "\n",
              "    <script>\n",
              "      async function quickchart(key) {\n",
              "        const containerElement = document.querySelector('#' + key);\n",
              "        const charts = await google.colab.kernel.invokeFunction(\n",
              "            'suggestCharts', [key], {});\n",
              "      }\n",
              "    </script>\n",
              "\n",
              "      <script>\n",
              "\n",
              "function displayQuickchartButton(domScope) {\n",
              "  let quickchartButtonEl =\n",
              "    domScope.querySelector('#df-8be29e44-9945-48ce-a593-30a407083105 button.colab-df-quickchart');\n",
              "  quickchartButtonEl.style.display =\n",
              "    google.colab.kernel.accessAllowed ? 'block' : 'none';\n",
              "}\n",
              "\n",
              "        displayQuickchartButton(document);\n",
              "      </script>\n",
              "      <style>\n",
              "    .colab-df-container {\n",
              "      display:flex;\n",
              "      flex-wrap:wrap;\n",
              "      gap: 12px;\n",
              "    }\n",
              "\n",
              "    .colab-df-convert {\n",
              "      background-color: #E8F0FE;\n",
              "      border: none;\n",
              "      border-radius: 50%;\n",
              "      cursor: pointer;\n",
              "      display: none;\n",
              "      fill: #1967D2;\n",
              "      height: 32px;\n",
              "      padding: 0 0 0 0;\n",
              "      width: 32px;\n",
              "    }\n",
              "\n",
              "    .colab-df-convert:hover {\n",
              "      background-color: #E2EBFA;\n",
              "      box-shadow: 0px 1px 2px rgba(60, 64, 67, 0.3), 0px 1px 3px 1px rgba(60, 64, 67, 0.15);\n",
              "      fill: #174EA6;\n",
              "    }\n",
              "\n",
              "    [theme=dark] .colab-df-convert {\n",
              "      background-color: #3B4455;\n",
              "      fill: #D2E3FC;\n",
              "    }\n",
              "\n",
              "    [theme=dark] .colab-df-convert:hover {\n",
              "      background-color: #434B5C;\n",
              "      box-shadow: 0px 1px 3px 1px rgba(0, 0, 0, 0.15);\n",
              "      filter: drop-shadow(0px 1px 2px rgba(0, 0, 0, 0.3));\n",
              "      fill: #FFFFFF;\n",
              "    }\n",
              "  </style>\n",
              "\n",
              "      <script>\n",
              "        const buttonEl =\n",
              "          document.querySelector('#df-c94dcc68-375c-4fd5-9ba6-36c86ef37d6b button.colab-df-convert');\n",
              "        buttonEl.style.display =\n",
              "          google.colab.kernel.accessAllowed ? 'block' : 'none';\n",
              "\n",
              "        async function convertToInteractive(key) {\n",
              "          const element = document.querySelector('#df-c94dcc68-375c-4fd5-9ba6-36c86ef37d6b');\n",
              "          const dataTable =\n",
              "            await google.colab.kernel.invokeFunction('convertToInteractive',\n",
              "                                                     [key], {});\n",
              "          if (!dataTable) return;\n",
              "\n",
              "          const docLinkHtml = 'Like what you see? Visit the ' +\n",
              "            '<a target=\"_blank\" href=https://colab.research.google.com/notebooks/data_table.ipynb>data table notebook</a>'\n",
              "            + ' to learn more about interactive tables.';\n",
              "          element.innerHTML = '';\n",
              "          dataTable['output_type'] = 'display_data';\n",
              "          await google.colab.output.renderOutput(dataTable, element);\n",
              "          const docLink = document.createElement('div');\n",
              "          docLink.innerHTML = docLinkHtml;\n",
              "          element.appendChild(docLink);\n",
              "        }\n",
              "      </script>\n",
              "    </div>\n",
              "  </div>\n"
            ]
          },
          "metadata": {},
          "execution_count": 50
        }
      ]
    },
    {
      "cell_type": "code",
      "source": [
        "ufo_df1.columns = ufo_df1.columns.str.replace(' ', '_')\n",
        "ufo_df1.head(0)"
      ],
      "metadata": {
        "colab": {
          "base_uri": "https://localhost:8080/",
          "height": 49
        },
        "id": "EmYZKzGNNxmQ",
        "outputId": "bda88099-e07d-42c7-fb43-0c232882bcd2"
      },
      "id": "EmYZKzGNNxmQ",
      "execution_count": 53,
      "outputs": [
        {
          "output_type": "execute_result",
          "data": {
            "text/plain": [
              "Empty DataFrame\n",
              "Columns: [City, Colors_Reported, Shape_Reported, State, Time]\n",
              "Index: []"
            ],
            "text/html": [
              "\n",
              "\n",
              "  <div id=\"df-5bc87a3c-b0d9-4df8-9bd8-52a80f812f8d\">\n",
              "    <div class=\"colab-df-container\">\n",
              "      <div>\n",
              "<style scoped>\n",
              "    .dataframe tbody tr th:only-of-type {\n",
              "        vertical-align: middle;\n",
              "    }\n",
              "\n",
              "    .dataframe tbody tr th {\n",
              "        vertical-align: top;\n",
              "    }\n",
              "\n",
              "    .dataframe thead th {\n",
              "        text-align: right;\n",
              "    }\n",
              "</style>\n",
              "<table border=\"1\" class=\"dataframe\">\n",
              "  <thead>\n",
              "    <tr style=\"text-align: right;\">\n",
              "      <th></th>\n",
              "      <th>City</th>\n",
              "      <th>Colors_Reported</th>\n",
              "      <th>Shape_Reported</th>\n",
              "      <th>State</th>\n",
              "      <th>Time</th>\n",
              "    </tr>\n",
              "  </thead>\n",
              "  <tbody>\n",
              "  </tbody>\n",
              "</table>\n",
              "</div>\n",
              "      <button class=\"colab-df-convert\" onclick=\"convertToInteractive('df-5bc87a3c-b0d9-4df8-9bd8-52a80f812f8d')\"\n",
              "              title=\"Convert this dataframe to an interactive table.\"\n",
              "              style=\"display:none;\">\n",
              "\n",
              "  <svg xmlns=\"http://www.w3.org/2000/svg\" height=\"24px\"viewBox=\"0 0 24 24\"\n",
              "       width=\"24px\">\n",
              "    <path d=\"M0 0h24v24H0V0z\" fill=\"none\"/>\n",
              "    <path d=\"M18.56 5.44l.94 2.06.94-2.06 2.06-.94-2.06-.94-.94-2.06-.94 2.06-2.06.94zm-11 1L8.5 8.5l.94-2.06 2.06-.94-2.06-.94L8.5 2.5l-.94 2.06-2.06.94zm10 10l.94 2.06.94-2.06 2.06-.94-2.06-.94-.94-2.06-.94 2.06-2.06.94z\"/><path d=\"M17.41 7.96l-1.37-1.37c-.4-.4-.92-.59-1.43-.59-.52 0-1.04.2-1.43.59L10.3 9.45l-7.72 7.72c-.78.78-.78 2.05 0 2.83L4 21.41c.39.39.9.59 1.41.59.51 0 1.02-.2 1.41-.59l7.78-7.78 2.81-2.81c.8-.78.8-2.07 0-2.86zM5.41 20L4 18.59l7.72-7.72 1.47 1.35L5.41 20z\"/>\n",
              "  </svg>\n",
              "      </button>\n",
              "\n",
              "\n",
              "\n",
              "    <div id=\"df-7e053a8b-207f-4ec2-9db1-e283fcd2d64e\">\n",
              "      <button class=\"colab-df-quickchart\" onclick=\"quickchart('df-7e053a8b-207f-4ec2-9db1-e283fcd2d64e')\"\n",
              "              title=\"Suggest charts.\"\n",
              "              style=\"display:none;\">\n",
              "\n",
              "<svg xmlns=\"http://www.w3.org/2000/svg\" height=\"24px\"viewBox=\"0 0 24 24\"\n",
              "     width=\"24px\">\n",
              "    <g>\n",
              "        <path d=\"M19 3H5c-1.1 0-2 .9-2 2v14c0 1.1.9 2 2 2h14c1.1 0 2-.9 2-2V5c0-1.1-.9-2-2-2zM9 17H7v-7h2v7zm4 0h-2V7h2v10zm4 0h-2v-4h2v4z\"/>\n",
              "    </g>\n",
              "</svg>\n",
              "      </button>\n",
              "    </div>\n",
              "\n",
              "<style>\n",
              "  .colab-df-quickchart {\n",
              "    background-color: #E8F0FE;\n",
              "    border: none;\n",
              "    border-radius: 50%;\n",
              "    cursor: pointer;\n",
              "    display: none;\n",
              "    fill: #1967D2;\n",
              "    height: 32px;\n",
              "    padding: 0 0 0 0;\n",
              "    width: 32px;\n",
              "  }\n",
              "\n",
              "  .colab-df-quickchart:hover {\n",
              "    background-color: #E2EBFA;\n",
              "    box-shadow: 0px 1px 2px rgba(60, 64, 67, 0.3), 0px 1px 3px 1px rgba(60, 64, 67, 0.15);\n",
              "    fill: #174EA6;\n",
              "  }\n",
              "\n",
              "  [theme=dark] .colab-df-quickchart {\n",
              "    background-color: #3B4455;\n",
              "    fill: #D2E3FC;\n",
              "  }\n",
              "\n",
              "  [theme=dark] .colab-df-quickchart:hover {\n",
              "    background-color: #434B5C;\n",
              "    box-shadow: 0px 1px 3px 1px rgba(0, 0, 0, 0.15);\n",
              "    filter: drop-shadow(0px 1px 2px rgba(0, 0, 0, 0.3));\n",
              "    fill: #FFFFFF;\n",
              "  }\n",
              "</style>\n",
              "\n",
              "    <script>\n",
              "      async function quickchart(key) {\n",
              "        const containerElement = document.querySelector('#' + key);\n",
              "        const charts = await google.colab.kernel.invokeFunction(\n",
              "            'suggestCharts', [key], {});\n",
              "      }\n",
              "    </script>\n",
              "\n",
              "      <script>\n",
              "\n",
              "function displayQuickchartButton(domScope) {\n",
              "  let quickchartButtonEl =\n",
              "    domScope.querySelector('#df-7e053a8b-207f-4ec2-9db1-e283fcd2d64e button.colab-df-quickchart');\n",
              "  quickchartButtonEl.style.display =\n",
              "    google.colab.kernel.accessAllowed ? 'block' : 'none';\n",
              "}\n",
              "\n",
              "        displayQuickchartButton(document);\n",
              "      </script>\n",
              "      <style>\n",
              "    .colab-df-container {\n",
              "      display:flex;\n",
              "      flex-wrap:wrap;\n",
              "      gap: 12px;\n",
              "    }\n",
              "\n",
              "    .colab-df-convert {\n",
              "      background-color: #E8F0FE;\n",
              "      border: none;\n",
              "      border-radius: 50%;\n",
              "      cursor: pointer;\n",
              "      display: none;\n",
              "      fill: #1967D2;\n",
              "      height: 32px;\n",
              "      padding: 0 0 0 0;\n",
              "      width: 32px;\n",
              "    }\n",
              "\n",
              "    .colab-df-convert:hover {\n",
              "      background-color: #E2EBFA;\n",
              "      box-shadow: 0px 1px 2px rgba(60, 64, 67, 0.3), 0px 1px 3px 1px rgba(60, 64, 67, 0.15);\n",
              "      fill: #174EA6;\n",
              "    }\n",
              "\n",
              "    [theme=dark] .colab-df-convert {\n",
              "      background-color: #3B4455;\n",
              "      fill: #D2E3FC;\n",
              "    }\n",
              "\n",
              "    [theme=dark] .colab-df-convert:hover {\n",
              "      background-color: #434B5C;\n",
              "      box-shadow: 0px 1px 3px 1px rgba(0, 0, 0, 0.15);\n",
              "      filter: drop-shadow(0px 1px 2px rgba(0, 0, 0, 0.3));\n",
              "      fill: #FFFFFF;\n",
              "    }\n",
              "  </style>\n",
              "\n",
              "      <script>\n",
              "        const buttonEl =\n",
              "          document.querySelector('#df-5bc87a3c-b0d9-4df8-9bd8-52a80f812f8d button.colab-df-convert');\n",
              "        buttonEl.style.display =\n",
              "          google.colab.kernel.accessAllowed ? 'block' : 'none';\n",
              "\n",
              "        async function convertToInteractive(key) {\n",
              "          const element = document.querySelector('#df-5bc87a3c-b0d9-4df8-9bd8-52a80f812f8d');\n",
              "          const dataTable =\n",
              "            await google.colab.kernel.invokeFunction('convertToInteractive',\n",
              "                                                     [key], {});\n",
              "          if (!dataTable) return;\n",
              "\n",
              "          const docLinkHtml = 'Like what you see? Visit the ' +\n",
              "            '<a target=\"_blank\" href=https://colab.research.google.com/notebooks/data_table.ipynb>data table notebook</a>'\n",
              "            + ' to learn more about interactive tables.';\n",
              "          element.innerHTML = '';\n",
              "          dataTable['output_type'] = 'display_data';\n",
              "          await google.colab.output.renderOutput(dataTable, element);\n",
              "          const docLink = document.createElement('div');\n",
              "          docLink.innerHTML = docLinkHtml;\n",
              "          element.appendChild(docLink);\n",
              "        }\n",
              "      </script>\n",
              "    </div>\n",
              "  </div>\n"
            ]
          },
          "metadata": {},
          "execution_count": 53
        }
      ]
    },
    {
      "cell_type": "code",
      "execution_count": 58,
      "id": "7f0d4e60",
      "metadata": {
        "id": "7f0d4e60",
        "colab": {
          "base_uri": "https://localhost:8080/"
        },
        "outputId": "2a806abc-726c-4bb8-cbd1-6da2d6ade6ea"
      },
      "outputs": [
        {
          "output_type": "stream",
          "name": "stdout",
          "text": [
            "/t| Different colors in UFO are ['RED' 'GREEN' 'BLUE' 'ORANGE' 'YELLOW' 'ORANGE YELLOW' 'RED GREEN'\n",
            " 'RED BLUE' 'RED ORANGE' 'RED GREEN BLUE' 'RED YELLOW GREEN' 'RED YELLOW'\n",
            " 'GREEN BLUE' 'ORANGE GREEN BLUE' 'ORANGE GREEN' 'YELLOW GREEN'\n",
            " 'RED YELLOW BLUE' 'ORANGE BLUE' 'RED YELLOW GREEN BLUE' 'YELLOW BLUE'\n",
            " 'RED ORANGE YELLOW' 'RED ORANGE GREEN' 'RED ORANGE BLUE'\n",
            " 'YELLOW GREEN BLUE' 'ORANGE YELLOW GREEN' 'ORANGE YELLOW BLUE'] and number of colors are 26\n"
          ]
        }
      ],
      "source": [
        "print(f'/t| Different colors in UFO are {ufo_df1.Colors_Reported.unique()} and number of colors are {ufo_df1.Colors_Reported.nunique()}')"
      ]
    },
    {
      "cell_type": "markdown",
      "id": "e1e058ca",
      "metadata": {
        "id": "e1e058ca"
      },
      "source": [
        "<hr>\n",
        "Compute all the <strong>different UFO shapes</strong> and the number of <strong>different UFO shapes</strong>.(<strong>4 Marks</strong>)\n",
        "<hr>"
      ]
    },
    {
      "cell_type": "code",
      "execution_count": 62,
      "id": "a8b78074",
      "metadata": {
        "id": "a8b78074",
        "colab": {
          "base_uri": "https://localhost:8080/"
        },
        "outputId": "045eb16a-e87d-4552-c121-de4fb582198d"
      },
      "outputs": [
        {
          "output_type": "stream",
          "name": "stdout",
          "text": [
            "/t| Shape of UFO is (2486, 5) and number of colors are 2\n"
          ]
        }
      ],
      "source": [
        "# your code should goes here\n",
        "print(f'/t| Shape of UFO is {ufo_df1.shape} and number of colors are {len(ufo_df1.shape)}')"
      ]
    },
    {
      "cell_type": "markdown",
      "id": "b456fb0c",
      "metadata": {
        "id": "b456fb0c"
      },
      "source": [
        "<hr>\n",
        "Which <strong>state/city</strong> has the most <strong>UFO</strong> sightings? (<strong>5 Marks</strong>)\n",
        "<hr>"
      ]
    },
    {
      "cell_type": "code",
      "execution_count": 74,
      "id": "21c8a6e1",
      "metadata": {
        "id": "21c8a6e1",
        "colab": {
          "base_uri": "https://localhost:8080/"
        },
        "outputId": "4d38b604-3cc7-4c78-8540-593d64cee1b1"
      },
      "outputs": [
        {
          "output_type": "stream",
          "name": "stdout",
          "text": [
            "/t| The city with the most UFO sightings is Seattle & state is CA\n"
          ]
        }
      ],
      "source": [
        "# your code should goes here\n",
        "sightings_by_state = ufo_df1.groupby(\"State\")[\"City\"].count().sort_values(ascending=False)\n",
        "sightings_by_city = ufo_df1.groupby(\"City\")[\"State\"].count().sort_values(ascending=False)\n",
        "\n",
        "\n",
        "print(f'/t| The city with the most UFO sightings is {sightings_by_city.index[0]} & state is {sightings_by_state.index[0]}')"
      ]
    },
    {
      "cell_type": "markdown",
      "id": "da4616b2",
      "metadata": {
        "id": "da4616b2"
      },
      "source": [
        "<hr>\n",
        "In terms of <strong>color/shape</strong>, what is the <strong>most commonly</strong> reported <strong>UFO</strong>?\n",
        "(<strong>5 Marks</strong>)\n",
        "<hr>"
      ]
    },
    {
      "cell_type": "code",
      "execution_count": 76,
      "id": "6e2f1046",
      "metadata": {
        "id": "6e2f1046",
        "colab": {
          "base_uri": "https://localhost:8080/"
        },
        "outputId": "da4851b1-7bd3-45f6-ee4d-26825e6e003f"
      },
      "outputs": [
        {
          "output_type": "stream",
          "name": "stdout",
          "text": [
            "/t| The shape reported is LIGHT & color is RED.\n"
          ]
        }
      ],
      "source": [
        "# your code should goes here\n",
        "sightings_by_color = ufo_df1.groupby('Colors_Reported')[\"City\"].count().sort_values(ascending=False)\n",
        "sightings_by_shape = ufo_df1.groupby('Shape_Reported')[\"City\"].count().sort_values(ascending=False)\n",
        "\n",
        "print(f'/t| The shape reported is {sightings_by_shape.index[0]} & color is {sightings_by_color.index[0]}.')"
      ]
    },
    {
      "cell_type": "markdown",
      "id": "4f9984ea",
      "metadata": {
        "id": "4f9984ea"
      },
      "source": [
        "<hr>\n",
        "Identify all sightings where the <strong>state</strong> is California (<strong>CA</strong>), the <strong>UFO color</strong> is <strong>red</strong>, and the <strong>UFO shape</strong> is <strong>triangle</strong>. (<strong>6 Marks</strong>)\n",
        "<hr>"
      ]
    },
    {
      "cell_type": "code",
      "execution_count": 78,
      "id": "251c895a",
      "metadata": {
        "id": "251c895a",
        "colab": {
          "base_uri": "https://localhost:8080/",
          "height": 332
        },
        "outputId": "1b3c2b99-9d30-4ee8-ebb8-6ca40cfe45ec"
      },
      "outputs": [
        {
          "output_type": "execute_result",
          "data": {
            "text/plain": [
              "             City Colors_Reported Shape_Reported State              Time\n",
              "2643      La Mesa             RED       TRIANGLE    CA    6/14/1974 5:30\n",
              "3276    San Diego             RED       TRIANGLE    CA     7/1/1976 0:00\n",
              "4491   Long Beach             RED       TRIANGLE    CA   1/15/1981 20:00\n",
              "5992     Stockton             RED       TRIANGLE    CA  11/15/1988 18:00\n",
              "6992   Chatsworth             RED       TRIANGLE    CA   3/15/1993 20:00\n",
              "8127     Glendale             RED       TRIANGLE    CA   5/19/1995 22:00\n",
              "11973  Coarsegold             RED       TRIANGLE    CA   8/13/1998 22:00\n",
              "17296   San Diego             RED       TRIANGLE    CA   8/26/2000 21:30\n",
              "17343     Redding             RED       TRIANGLE    CA    9/5/2000 21:25"
            ],
            "text/html": [
              "\n",
              "\n",
              "  <div id=\"df-9ea42d53-da64-46f7-ace1-fc83eb427888\">\n",
              "    <div class=\"colab-df-container\">\n",
              "      <div>\n",
              "<style scoped>\n",
              "    .dataframe tbody tr th:only-of-type {\n",
              "        vertical-align: middle;\n",
              "    }\n",
              "\n",
              "    .dataframe tbody tr th {\n",
              "        vertical-align: top;\n",
              "    }\n",
              "\n",
              "    .dataframe thead th {\n",
              "        text-align: right;\n",
              "    }\n",
              "</style>\n",
              "<table border=\"1\" class=\"dataframe\">\n",
              "  <thead>\n",
              "    <tr style=\"text-align: right;\">\n",
              "      <th></th>\n",
              "      <th>City</th>\n",
              "      <th>Colors_Reported</th>\n",
              "      <th>Shape_Reported</th>\n",
              "      <th>State</th>\n",
              "      <th>Time</th>\n",
              "    </tr>\n",
              "  </thead>\n",
              "  <tbody>\n",
              "    <tr>\n",
              "      <th>2643</th>\n",
              "      <td>La Mesa</td>\n",
              "      <td>RED</td>\n",
              "      <td>TRIANGLE</td>\n",
              "      <td>CA</td>\n",
              "      <td>6/14/1974 5:30</td>\n",
              "    </tr>\n",
              "    <tr>\n",
              "      <th>3276</th>\n",
              "      <td>San Diego</td>\n",
              "      <td>RED</td>\n",
              "      <td>TRIANGLE</td>\n",
              "      <td>CA</td>\n",
              "      <td>7/1/1976 0:00</td>\n",
              "    </tr>\n",
              "    <tr>\n",
              "      <th>4491</th>\n",
              "      <td>Long Beach</td>\n",
              "      <td>RED</td>\n",
              "      <td>TRIANGLE</td>\n",
              "      <td>CA</td>\n",
              "      <td>1/15/1981 20:00</td>\n",
              "    </tr>\n",
              "    <tr>\n",
              "      <th>5992</th>\n",
              "      <td>Stockton</td>\n",
              "      <td>RED</td>\n",
              "      <td>TRIANGLE</td>\n",
              "      <td>CA</td>\n",
              "      <td>11/15/1988 18:00</td>\n",
              "    </tr>\n",
              "    <tr>\n",
              "      <th>6992</th>\n",
              "      <td>Chatsworth</td>\n",
              "      <td>RED</td>\n",
              "      <td>TRIANGLE</td>\n",
              "      <td>CA</td>\n",
              "      <td>3/15/1993 20:00</td>\n",
              "    </tr>\n",
              "    <tr>\n",
              "      <th>8127</th>\n",
              "      <td>Glendale</td>\n",
              "      <td>RED</td>\n",
              "      <td>TRIANGLE</td>\n",
              "      <td>CA</td>\n",
              "      <td>5/19/1995 22:00</td>\n",
              "    </tr>\n",
              "    <tr>\n",
              "      <th>11973</th>\n",
              "      <td>Coarsegold</td>\n",
              "      <td>RED</td>\n",
              "      <td>TRIANGLE</td>\n",
              "      <td>CA</td>\n",
              "      <td>8/13/1998 22:00</td>\n",
              "    </tr>\n",
              "    <tr>\n",
              "      <th>17296</th>\n",
              "      <td>San Diego</td>\n",
              "      <td>RED</td>\n",
              "      <td>TRIANGLE</td>\n",
              "      <td>CA</td>\n",
              "      <td>8/26/2000 21:30</td>\n",
              "    </tr>\n",
              "    <tr>\n",
              "      <th>17343</th>\n",
              "      <td>Redding</td>\n",
              "      <td>RED</td>\n",
              "      <td>TRIANGLE</td>\n",
              "      <td>CA</td>\n",
              "      <td>9/5/2000 21:25</td>\n",
              "    </tr>\n",
              "  </tbody>\n",
              "</table>\n",
              "</div>\n",
              "      <button class=\"colab-df-convert\" onclick=\"convertToInteractive('df-9ea42d53-da64-46f7-ace1-fc83eb427888')\"\n",
              "              title=\"Convert this dataframe to an interactive table.\"\n",
              "              style=\"display:none;\">\n",
              "\n",
              "  <svg xmlns=\"http://www.w3.org/2000/svg\" height=\"24px\"viewBox=\"0 0 24 24\"\n",
              "       width=\"24px\">\n",
              "    <path d=\"M0 0h24v24H0V0z\" fill=\"none\"/>\n",
              "    <path d=\"M18.56 5.44l.94 2.06.94-2.06 2.06-.94-2.06-.94-.94-2.06-.94 2.06-2.06.94zm-11 1L8.5 8.5l.94-2.06 2.06-.94-2.06-.94L8.5 2.5l-.94 2.06-2.06.94zm10 10l.94 2.06.94-2.06 2.06-.94-2.06-.94-.94-2.06-.94 2.06-2.06.94z\"/><path d=\"M17.41 7.96l-1.37-1.37c-.4-.4-.92-.59-1.43-.59-.52 0-1.04.2-1.43.59L10.3 9.45l-7.72 7.72c-.78.78-.78 2.05 0 2.83L4 21.41c.39.39.9.59 1.41.59.51 0 1.02-.2 1.41-.59l7.78-7.78 2.81-2.81c.8-.78.8-2.07 0-2.86zM5.41 20L4 18.59l7.72-7.72 1.47 1.35L5.41 20z\"/>\n",
              "  </svg>\n",
              "      </button>\n",
              "\n",
              "\n",
              "\n",
              "    <div id=\"df-0e34fd5a-ffcb-4916-a4a1-897d030a64b3\">\n",
              "      <button class=\"colab-df-quickchart\" onclick=\"quickchart('df-0e34fd5a-ffcb-4916-a4a1-897d030a64b3')\"\n",
              "              title=\"Suggest charts.\"\n",
              "              style=\"display:none;\">\n",
              "\n",
              "<svg xmlns=\"http://www.w3.org/2000/svg\" height=\"24px\"viewBox=\"0 0 24 24\"\n",
              "     width=\"24px\">\n",
              "    <g>\n",
              "        <path d=\"M19 3H5c-1.1 0-2 .9-2 2v14c0 1.1.9 2 2 2h14c1.1 0 2-.9 2-2V5c0-1.1-.9-2-2-2zM9 17H7v-7h2v7zm4 0h-2V7h2v10zm4 0h-2v-4h2v4z\"/>\n",
              "    </g>\n",
              "</svg>\n",
              "      </button>\n",
              "    </div>\n",
              "\n",
              "<style>\n",
              "  .colab-df-quickchart {\n",
              "    background-color: #E8F0FE;\n",
              "    border: none;\n",
              "    border-radius: 50%;\n",
              "    cursor: pointer;\n",
              "    display: none;\n",
              "    fill: #1967D2;\n",
              "    height: 32px;\n",
              "    padding: 0 0 0 0;\n",
              "    width: 32px;\n",
              "  }\n",
              "\n",
              "  .colab-df-quickchart:hover {\n",
              "    background-color: #E2EBFA;\n",
              "    box-shadow: 0px 1px 2px rgba(60, 64, 67, 0.3), 0px 1px 3px 1px rgba(60, 64, 67, 0.15);\n",
              "    fill: #174EA6;\n",
              "  }\n",
              "\n",
              "  [theme=dark] .colab-df-quickchart {\n",
              "    background-color: #3B4455;\n",
              "    fill: #D2E3FC;\n",
              "  }\n",
              "\n",
              "  [theme=dark] .colab-df-quickchart:hover {\n",
              "    background-color: #434B5C;\n",
              "    box-shadow: 0px 1px 3px 1px rgba(0, 0, 0, 0.15);\n",
              "    filter: drop-shadow(0px 1px 2px rgba(0, 0, 0, 0.3));\n",
              "    fill: #FFFFFF;\n",
              "  }\n",
              "</style>\n",
              "\n",
              "    <script>\n",
              "      async function quickchart(key) {\n",
              "        const containerElement = document.querySelector('#' + key);\n",
              "        const charts = await google.colab.kernel.invokeFunction(\n",
              "            'suggestCharts', [key], {});\n",
              "      }\n",
              "    </script>\n",
              "\n",
              "      <script>\n",
              "\n",
              "function displayQuickchartButton(domScope) {\n",
              "  let quickchartButtonEl =\n",
              "    domScope.querySelector('#df-0e34fd5a-ffcb-4916-a4a1-897d030a64b3 button.colab-df-quickchart');\n",
              "  quickchartButtonEl.style.display =\n",
              "    google.colab.kernel.accessAllowed ? 'block' : 'none';\n",
              "}\n",
              "\n",
              "        displayQuickchartButton(document);\n",
              "      </script>\n",
              "      <style>\n",
              "    .colab-df-container {\n",
              "      display:flex;\n",
              "      flex-wrap:wrap;\n",
              "      gap: 12px;\n",
              "    }\n",
              "\n",
              "    .colab-df-convert {\n",
              "      background-color: #E8F0FE;\n",
              "      border: none;\n",
              "      border-radius: 50%;\n",
              "      cursor: pointer;\n",
              "      display: none;\n",
              "      fill: #1967D2;\n",
              "      height: 32px;\n",
              "      padding: 0 0 0 0;\n",
              "      width: 32px;\n",
              "    }\n",
              "\n",
              "    .colab-df-convert:hover {\n",
              "      background-color: #E2EBFA;\n",
              "      box-shadow: 0px 1px 2px rgba(60, 64, 67, 0.3), 0px 1px 3px 1px rgba(60, 64, 67, 0.15);\n",
              "      fill: #174EA6;\n",
              "    }\n",
              "\n",
              "    [theme=dark] .colab-df-convert {\n",
              "      background-color: #3B4455;\n",
              "      fill: #D2E3FC;\n",
              "    }\n",
              "\n",
              "    [theme=dark] .colab-df-convert:hover {\n",
              "      background-color: #434B5C;\n",
              "      box-shadow: 0px 1px 3px 1px rgba(0, 0, 0, 0.15);\n",
              "      filter: drop-shadow(0px 1px 2px rgba(0, 0, 0, 0.3));\n",
              "      fill: #FFFFFF;\n",
              "    }\n",
              "  </style>\n",
              "\n",
              "      <script>\n",
              "        const buttonEl =\n",
              "          document.querySelector('#df-9ea42d53-da64-46f7-ace1-fc83eb427888 button.colab-df-convert');\n",
              "        buttonEl.style.display =\n",
              "          google.colab.kernel.accessAllowed ? 'block' : 'none';\n",
              "\n",
              "        async function convertToInteractive(key) {\n",
              "          const element = document.querySelector('#df-9ea42d53-da64-46f7-ace1-fc83eb427888');\n",
              "          const dataTable =\n",
              "            await google.colab.kernel.invokeFunction('convertToInteractive',\n",
              "                                                     [key], {});\n",
              "          if (!dataTable) return;\n",
              "\n",
              "          const docLinkHtml = 'Like what you see? Visit the ' +\n",
              "            '<a target=\"_blank\" href=https://colab.research.google.com/notebooks/data_table.ipynb>data table notebook</a>'\n",
              "            + ' to learn more about interactive tables.';\n",
              "          element.innerHTML = '';\n",
              "          dataTable['output_type'] = 'display_data';\n",
              "          await google.colab.output.renderOutput(dataTable, element);\n",
              "          const docLink = document.createElement('div');\n",
              "          docLink.innerHTML = docLinkHtml;\n",
              "          element.appendChild(docLink);\n",
              "        }\n",
              "      </script>\n",
              "    </div>\n",
              "  </div>\n"
            ]
          },
          "metadata": {},
          "execution_count": 78
        }
      ],
      "source": [
        "# your code should goes here\n",
        "filtered_sightings = ufo_df1[(ufo_df1[\"State\"] == 'CA') & (ufo_df1[\"Colors_Reported\"] == 'RED') & (ufo_df1[\"Shape_Reported\"] == 'TRIANGLE')]\n",
        "filtered_sightings"
      ]
    }
  ],
  "metadata": {
    "kernelspec": {
      "display_name": "Python 3 (ipykernel)",
      "language": "python",
      "name": "python3"
    },
    "language_info": {
      "codemirror_mode": {
        "name": "ipython",
        "version": 3
      },
      "file_extension": ".py",
      "mimetype": "text/x-python",
      "name": "python",
      "nbconvert_exporter": "python",
      "pygments_lexer": "ipython3",
      "version": "3.9.7"
    },
    "colab": {
      "provenance": []
    }
  },
  "nbformat": 4,
  "nbformat_minor": 5
}